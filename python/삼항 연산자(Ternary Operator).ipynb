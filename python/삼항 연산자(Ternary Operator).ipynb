{
  "nbformat": 4,
  "nbformat_minor": 0,
  "metadata": {
    "colab": {
      "provenance": [],
      "authorship_tag": "ABX9TyM5XvJDv796fV5bSZAiDELV",
      "include_colab_link": true
    },
    "kernelspec": {
      "name": "python3",
      "display_name": "Python 3"
    },
    "language_info": {
      "name": "python"
    },
    "gpuClass": "standard"
  },
  "cells": [
    {
      "cell_type": "markdown",
      "metadata": {
        "id": "view-in-github",
        "colab_type": "text"
      },
      "source": [
        "<a href=\"https://colab.research.google.com/github/Byeon-MJ/TIL/blob/main/%5BPython%5D%20%EC%82%BC%ED%95%AD%20%EC%97%B0%EC%82%B0%EC%9E%90(Ternary%20Operator).ipynb\" target=\"_parent\"><img src=\"https://colab.research.google.com/assets/colab-badge.svg\" alt=\"Open In Colab\"/></a>"
      ]
    },
    {
      "cell_type": "markdown",
      "source": [
        "# [Python] 삼항연산자(Ternary Operator)"
      ],
      "metadata": {
        "id": "9AHWDu8YIqOZ"
      }
    },
    {
      "cell_type": "markdown",
      "source": [
        "요즘 PyTorch를 공부하면서 device ‘CUDA’ 설정 때문에 삼항연산자를 자주 사용하게 된다.\n",
        "\n",
        "다시 파이썬 공부를 시작하면서 좀 더 파이써닉한 코드를 짜려고 노력한 덕분인지 이제는 어느정도 List Comprehension 과 삼항연산자 사용이 자연스러워 진 것 같기도 하다."
      ],
      "metadata": {
        "id": "rihntFEdIztE"
      }
    },
    {
      "cell_type": "markdown",
      "source": [
        "# **1. 삼항 연산자(Ternary operators)**\n",
        "\n",
        "삼항 연산자는 if ~ else로 이어지는 조건문 연산을 조금 더 간결하게 표현하기 위한 코드 형태이다.\n",
        "\n",
        "대부분의 언어에서 삼항연산자를 사용할 수 있다. 파이썬도 삼항연산자를 지원하지만 형태가 조금 다르다.\n",
        "\n",
        "> [True Value] **if** [Condition] **else** [False Value]\n",
        "> \n",
        "\n",
        "참인 경우의 값을 적고 참인 조건을 적으며 그렇지 않을 경우(거짓인 경우)의 값을 입력하는 형태이다."
      ],
      "metadata": {
        "id": "2TGNqQw1I1E0"
      }
    },
    {
      "cell_type": "markdown",
      "source": [
        "# 2. 삼항 연산자 사용하기\n",
        "\n",
        "- 홀수인지 짝수인지 판별해보기"
      ],
      "metadata": {
        "id": "T2N4ZsbsI2WM"
      }
    },
    {
      "cell_type": "code",
      "source": [
        "a = 5\n",
        "\n",
        "# 일반적인 조건문\n",
        "if a % 2 == 0:\n",
        "\tprint(\"EVEN\")\n",
        "else:\n",
        "\tprint(\"ODD\")\n",
        "\n",
        "# 삼항 연산자\n",
        "print(\"EVEN\" if a % 2 == 0 else \"ODD\")"
      ],
      "metadata": {
        "colab": {
          "base_uri": "https://localhost:8080/"
        },
        "id": "RW8CRC3sI4AU",
        "outputId": "dc9bc70c-de76-443a-dc50-0c7319d76aef"
      },
      "execution_count": 1,
      "outputs": [
        {
          "output_type": "stream",
          "name": "stdout",
          "text": [
            "ODD\n",
            "ODD\n"
          ]
        }
      ]
    },
    {
      "cell_type": "markdown",
      "source": [
        "위와 예제와 같이 4줄로 판별하는 조건문을 삼항연산자를 사용하면 한 줄로 줄일 수 있다."
      ],
      "metadata": {
        "id": "JRtedKhbI5MF"
      }
    },
    {
      "cell_type": "markdown",
      "source": [
        "# 3. List Comprehension에서 삼항 연산자 사용하기\n",
        "\n",
        "삼항 연산자는 List Comprehension 내에서도 사용이 가능하다.\n",
        "\n",
        "먼저 List Comprehension에서 조건문을 사용하는 두 가지 방법이 있다."
      ],
      "metadata": {
        "id": "dnqs0sXgI7Ts"
      }
    },
    {
      "cell_type": "markdown",
      "source": [
        "- 짝수만 모으는 List Comprehension"
      ],
      "metadata": {
        "id": "oH8uLbGNJDUG"
      }
    },
    {
      "cell_type": "code",
      "source": [
        "[i for i in range(10) if i % 2 == 0]"
      ],
      "metadata": {
        "colab": {
          "base_uri": "https://localhost:8080/"
        },
        "id": "8-eenHIMI8rE",
        "outputId": "0bf483bd-2c1d-4958-a7b8-b2e93ef1be5d"
      },
      "execution_count": 3,
      "outputs": [
        {
          "output_type": "execute_result",
          "data": {
            "text/plain": [
              "[0, 2, 4, 6, 8]"
            ]
          },
          "metadata": {},
          "execution_count": 3
        }
      ]
    },
    {
      "cell_type": "markdown",
      "source": [
        "- 짝수는 그대로, 홀수는 0인 값을 만드는 List Comprehension"
      ],
      "metadata": {
        "id": "B_lCVDDKJB0h"
      }
    },
    {
      "cell_type": "code",
      "source": [
        "[i if i % 2 == 0 else 0 for i in range(10)]"
      ],
      "metadata": {
        "colab": {
          "base_uri": "https://localhost:8080/"
        },
        "id": "t985BzduI_nV",
        "outputId": "7d55b012-7bc1-45c8-dca5-1753f8eabc21"
      },
      "execution_count": 4,
      "outputs": [
        {
          "output_type": "execute_result",
          "data": {
            "text/plain": [
              "[0, 0, 2, 0, 4, 0, 6, 0, 8, 0]"
            ]
          },
          "metadata": {},
          "execution_count": 4
        }
      ]
    },
    {
      "cell_type": "markdown",
      "source": [
        "if만 쓰는 방법과 if ~ else를 사용하는 삼항연산자 모두 사용이 가능하다.\n",
        "\n",
        "단 두 문법의 차이점은 조건문을 for문 앞에 쓰냐 뒤에 쓰냐의 차이인데,\n",
        "\n",
        "if 만 쓰는 경우는 for 문 뒤에 써야하고, if ~ else를 사용하는 경우는 for문 앞에서 사용해야 한다.\n",
        "\n",
        "반대의 경우는 ‘SyntaxError’ 가 발생한다."
      ],
      "metadata": {
        "id": "W8oDu5a1JGNM"
      }
    },
    {
      "cell_type": "code",
      "source": [
        "[i if i % 2 == 0 for i in range(10)]"
      ],
      "metadata": {
        "colab": {
          "base_uri": "https://localhost:8080/",
          "height": 136
        },
        "id": "ZjedZZp3JI-U",
        "outputId": "765ac8f8-545e-4081-d2bc-bbae07ff8e47"
      },
      "execution_count": 5,
      "outputs": [
        {
          "output_type": "error",
          "ename": "SyntaxError",
          "evalue": "ignored",
          "traceback": [
            "\u001b[0;36m  File \u001b[0;32m\"<ipython-input-5-a5734b47989f>\"\u001b[0;36m, line \u001b[0;32m1\u001b[0m\n\u001b[0;31m    [i if i % 2 == 0 for i in range(10)]\u001b[0m\n\u001b[0m                     ^\u001b[0m\n\u001b[0;31mSyntaxError\u001b[0m\u001b[0;31m:\u001b[0m invalid syntax\n"
          ]
        }
      ]
    },
    {
      "cell_type": "code",
      "source": [
        "[i for i in range(10) if i % 2 == 0 else 0]"
      ],
      "metadata": {
        "colab": {
          "base_uri": "https://localhost:8080/",
          "height": 136
        },
        "id": "XevReYTXJL1M",
        "outputId": "d8d50b2e-bd98-40ff-e19d-3f27923bd68a"
      },
      "execution_count": 6,
      "outputs": [
        {
          "output_type": "error",
          "ename": "SyntaxError",
          "evalue": "ignored",
          "traceback": [
            "\u001b[0;36m  File \u001b[0;32m\"<ipython-input-6-2cbb1ed2a828>\"\u001b[0;36m, line \u001b[0;32m1\u001b[0m\n\u001b[0;31m    [i for i in range(10) if i % 2 == 0 else 0]\u001b[0m\n\u001b[0m                                        ^\u001b[0m\n\u001b[0;31mSyntaxError\u001b[0m\u001b[0;31m:\u001b[0m invalid syntax\n"
          ]
        }
      ]
    },
    {
      "cell_type": "code",
      "source": [],
      "metadata": {
        "id": "jJoBL0v9JPUk"
      },
      "execution_count": null,
      "outputs": []
    }
  ]
}