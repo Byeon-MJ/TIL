{
  "nbformat": 4,
  "nbformat_minor": 0,
  "metadata": {
    "colab": {
      "provenance": [],
      "authorship_tag": "ABX9TyOWp0vedW4HIBdGOArOh+Xj",
      "include_colab_link": true
    },
    "kernelspec": {
      "name": "python3",
      "display_name": "Python 3"
    },
    "language_info": {
      "name": "python"
    },
    "gpuClass": "standard"
  },
  "cells": [
    {
      "cell_type": "markdown",
      "metadata": {
        "id": "view-in-github",
        "colab_type": "text"
      },
      "source": [
        "<a href=\"https://colab.research.google.com/github/Byeon-MJ/TIL/blob/main/Get_Start_Keras.ipynb\" target=\"_parent\"><img src=\"https://colab.research.google.com/assets/colab-badge.svg\" alt=\"Open In Colab\"/></a>"
      ]
    },
    {
      "cell_type": "markdown",
      "source": [
        "# Module Import"
      ],
      "metadata": {
        "id": "7O7h8ehHeSAb"
      }
    },
    {
      "cell_type": "code",
      "execution_count": null,
      "metadata": {
        "id": "bFIYRglWZV8w"
      },
      "outputs": [],
      "source": [
        "import numpy as np\n",
        "import pandas as pd\n",
        "import matplotlib.pyplot as plt\n",
        "import tensorflow as tf\n",
        "from tensorflow import keras\n",
        "\n",
        "from keras import optimizers\n",
        "from keras.layers import Dense, Input"
      ]
    },
    {
      "cell_type": "markdown",
      "source": [
        "# Keras DNN 최소 코드로 시작해보기"
      ],
      "metadata": {
        "id": "qQgd2DO-eVHO"
      }
    },
    {
      "cell_type": "markdown",
      "source": [
        "## 데이터 준비\n"
      ],
      "metadata": {
        "id": "94ughaaWeXob"
      }
    },
    {
      "cell_type": "code",
      "source": [
        "x = np.arange(-1, 1, 0.01)\n",
        "y = x**2\n",
        "\n",
        "plt.scatter(x, y)\n",
        "plt.show()"
      ],
      "metadata": {
        "id": "L-lieabnaB28",
        "colab": {
          "base_uri": "https://localhost:8080/",
          "height": 265
        },
        "outputId": "b68e3502-20c3-4c5b-ae7b-b638126df7c9"
      },
      "execution_count": null,
      "outputs": [
        {
          "output_type": "display_data",
          "data": {
            "text/plain": [
              "<Figure size 432x288 with 1 Axes>"
            ],
            "image/png": "[encoded data removed]"
          },
          "metadata": {
            "needs_background": "light"
          }
        }
      ]
    },
    {
      "cell_type": "code",
      "source": [
        "print(len(x))\n",
        "print(x.shape)"
      ],
      "metadata": {
        "id": "DZb9_VbsaHAM",
        "colab": {
          "base_uri": "https://localhost:8080/"
        },
        "outputId": "a6fcc586-e293-4529-ab9a-79d04e0e7cd3"
      },
      "execution_count": null,
      "outputs": [
        {
          "output_type": "stream",
          "name": "stdout",
          "text": [
            "200\n",
            "(200,)\n"
          ]
        }
      ]
    },
    {
      "cell_type": "markdown",
      "source": [
        "## Keras 코드\n",
        "* Sequential 로 Layer 구현\n",
        "* Dense Layer 는 노드가 Fully Connected\n",
        "* Activation Function, Optimizer, Loss Funciont도 따로 정리 예정\n",
        "\n",
        "\n"
      ],
      "metadata": {
        "id": "23a1zSw2e3W4"
      }
    },
    {
      "cell_type": "code",
      "source": [
        "# 모델 생성\n",
        "model = keras.Sequential()"
      ],
      "metadata": {
        "id": "EMKoB7fDaO7f"
      },
      "execution_count": null,
      "outputs": []
    },
    {
      "cell_type": "code",
      "source": [
        "# 모델 정의\n",
        "model.add(Input(1))\n",
        "model.add(Dense(10, activation='tanh'))\n",
        "model.add(Dense(10, activation='tanh'))\n",
        "model.add(Dense(1))"
      ],
      "metadata": {
        "id": "E9QuR5IKaR9k"
      },
      "execution_count": null,
      "outputs": []
    },
    {
      "cell_type": "code",
      "source": [
        "# 컴파일 : 모델 + optimizer + loss\n",
        "model.compile(optimizer = \"SGD\", loss=\"mse\")"
      ],
      "metadata": {
        "id": "qzoEjG8DaaBT"
      },
      "execution_count": null,
      "outputs": []
    },
    {
      "cell_type": "code",
      "source": [
        "# 학습\n",
        "model.fit(x, y, epochs=1000, verbose=0, batch_size=20)"
      ],
      "metadata": {
        "id": "o-qTlMx8agRj",
        "colab": {
          "base_uri": "https://localhost:8080/"
        },
        "outputId": "9b509872-095c-4b86-87b7-8d8c46ccfd16"
      },
      "execution_count": null,
      "outputs": [
        {
          "output_type": "execute_result",
          "data": {
            "text/plain": [
              "<keras.callbacks.History at 0x7f34b7e47ca0>"
            ]
          },
          "metadata": {},
          "execution_count": 14
        }
      ]
    },
    {
      "cell_type": "code",
      "source": [
        "# 예측\n",
        "y_ = model.predict(x)"
      ],
      "metadata": {
        "id": "H1D3i3yMalmw",
        "colab": {
          "base_uri": "https://localhost:8080/"
        },
        "outputId": "a18f1913-b770-408c-bf5c-8f7b2dc87076"
      },
      "execution_count": null,
      "outputs": [
        {
          "output_type": "stream",
          "name": "stdout",
          "text": [
            "7/7 [==============================] - 0s 3ms/step\n"
          ]
        }
      ]
    },
    {
      "cell_type": "code",
      "source": [
        "# 결과 그래프로 보기\n",
        "plt.scatter(x, y) # 정답\n",
        "plt.scatter(x, y_, color='r') # 예측\n",
        "plt.show()"
      ],
      "metadata": {
        "id": "9DiEldkcfE80",
        "colab": {
          "base_uri": "https://localhost:8080/",
          "height": 265
        },
        "outputId": "f7c21953-e588-4b97-a7af-ff9837a46730"
      },
      "execution_count": null,
      "outputs": [
        {
          "output_type": "display_data",
          "data": {
            "text/plain": [
              "<Figure size 432x288 with 1 Axes>"
            ],
            "image/png": "[encoded data removed]"
          },
          "metadata": {
            "needs_background": "light"
          }
        }
      ]
    },
    {
      "cell_type": "markdown",
      "source": [
        "## 성능 평가 추가\n",
        "* metrics와 evaluate 추가"
      ],
      "metadata": {
        "id": "4dX8UBo3ffA5"
      }
    },
    {
      "cell_type": "code",
      "source": [
        "model = keras.Sequential()\n",
        "model.add(Input(1))\n",
        "model.add(Dense(10, activation='tanh'))\n",
        "model.add(Dense(10, activation='tanh'))\n",
        "model.add(Dense(1))\n",
        "\n",
        "model.compile(optimizer='SGD', loss='mse', metrics=['mae'])\n",
        "\n",
        "model.fit(x, y, epochs=1000, verbose=0, batch_size=20)\n",
        "\n",
        "loss, mae = model.evaluate(x, y)\n",
        "print('loss=', loss)\n",
        "print('mae=', mae)\n",
        "\n",
        "y_ = model.predict(x)\n",
        "\n",
        "plt.scatter(x, y)\n",
        "plt.scatter(x, y_, color='r')\n",
        "plt.show()"
      ],
      "metadata": {
        "id": "4-2jeee1fkQj",
        "colab": {
          "base_uri": "https://localhost:8080/",
          "height": 338
        },
        "outputId": "bf0ab8e0-1089-400a-d07d-e0b6a81a8bf6"
      },
      "execution_count": null,
      "outputs": [
        {
          "output_type": "stream",
          "name": "stdout",
          "text": [
            "7/7 [==============================] - 0s 2ms/step - loss: 0.0016 - mae: 0.0332\n",
            "loss= 0.001593214925378561\n",
            "mae= 0.0332273468375206\n",
            "7/7 [==============================] - 0s 2ms/step\n"
          ]
        },
        {
          "output_type": "display_data",
          "data": {
            "text/plain": [
              "<Figure size 432x288 with 1 Axes>"
            ],
            "image/png": "[encoded data removed]"
          },
          "metadata": {
            "needs_background": "light"
          }
        }
      ]
    },
    {
      "cell_type": "code",
      "source": [],
      "metadata": {
        "id": "thSEGyh6ftdO"
      },
      "execution_count": null,
      "outputs": []
    }
  ]
}