{
  "nbformat": 4,
  "nbformat_minor": 0,
  "metadata": {
    "colab": {
      "provenance": [],
      "authorship_tag": "ABX9TyPQ56s6R5pmFyP6Wf2+rs1X",
      "include_colab_link": true
    },
    "kernelspec": {
      "name": "python3",
      "display_name": "Python 3"
    },
    "language_info": {
      "name": "python"
    },
    "gpuClass": "standard"
  },
  "cells": [
    {
      "cell_type": "markdown",
      "metadata": {
        "id": "view-in-github",
        "colab_type": "text"
      },
      "source": [
        "<a href=\"https://colab.research.google.com/github/Byeon-MJ/TIL/blob/main/%5BPython%5D%20List_Delete_Time_Comparison.ipynb\" target=\"_parent\"><img src=\"https://colab.research.google.com/assets/colab-badge.svg\" alt=\"Open In Colab\"/></a>"
      ]
    },
    {
      "cell_type": "markdown",
      "source": [
        "# Python 리스트 삭제 속도 비교\n",
        "리스트에서 특정 위치의 요소를 삭제할때 사용하는 대표적인 네가지 기능인 **slicing, pop, del, remove**의 처리 속도를 비교해보았다.\n",
        "\n",
        "속도를 비교하게 된 계기는 프로그래머스에서 문제를 풀다가 효율성 테스트에서 계속 막혀서 성능 개선을 위해서였다. \n",
        "\n",
        "결론부터 말하자면 이런 내용을 몰랐을때 나는 Slicing 방법으로 리스트를 처리했었는데, del을 사용하니 속도가 많이 개선되었고 효율성 테스트를 통과할 수 있었다!!\n",
        "\n",
        "성능을 비교하는 것이 주 목적이기에 각각의 사용법에 대한 것들은 생략하도록 하겠다."
      ],
      "metadata": {
        "id": "hG8YjXT-kgZq"
      }
    },
    {
      "cell_type": "markdown",
      "source": [
        "* 아래는 해당 문제의 링크와 내 풀이를 포스팅한 내용이다. 어떤 문제인지와 풀이법이 궁금하다면 참고!\n",
        "\n",
        "https://school.programmers.co.kr/learn/courses/30/lessons/133502\n",
        "\n",
        "https://redmooncode.tistory.com/115"
      ],
      "metadata": {
        "id": "cz4bjO2BkmNA"
      }
    },
    {
      "cell_type": "markdown",
      "source": [
        "## Pop\n",
        "길이가 500만인 리스트를 사용하였고, 시간 측정을 위해 time 모듈을 이용하였다.\n",
        "\n",
        "아래 코드는 네가지 기능들 모두에 공통적으로 사용할 것이다."
      ],
      "metadata": {
        "id": "LsywWHiwkwJB"
      }
    },
    {
      "cell_type": "code",
      "source": [
        "import time\n",
        "\n",
        "str_list = [i for i in range(5000000)]"
      ],
      "metadata": {
        "id": "M2DrXrt_bUEt"
      },
      "execution_count": 55,
      "outputs": []
    },
    {
      "cell_type": "markdown",
      "source": [
        "먼저 pop의 성능을 알아보자. pop은 리스트에서 인덱스를 이용하여 값을 지운다. 그리고 지워진 인덱스의 값을 반환한다. del과는 다르게 지워진 값을 반환하기때문에 미세한 속도 차이가 생긴다고 한다.\n",
        "\n",
        "리스트에서 값을 삭제한 후 리스트를 재조정한다."
      ],
      "metadata": {
        "id": "8rXynjKuky8J"
      }
    },
    {
      "cell_type": "code",
      "source": [
        "# pop\n",
        "start_time = time.time()\n",
        "list_pop = str_list.copy()\n",
        "list_pop.pop(0)\n",
        "end_time = time.time()\n",
        "print(f'pop : {end_time - start_time:.4f}초')"
      ],
      "metadata": {
        "colab": {
          "base_uri": "https://localhost:8080/"
        },
        "id": "1g1Ve7iQbuel",
        "outputId": "99cc6a76-7045-4f6f-e7ca-bfd3b252d9e6"
      },
      "execution_count": 53,
      "outputs": [
        {
          "output_type": "stream",
          "name": "stdout",
          "text": [
            "pop : 0.0450초\n"
          ]
        }
      ]
    },
    {
      "cell_type": "markdown",
      "source": [
        "## del"
      ],
      "metadata": {
        "id": "DErZSvEuk09R"
      }
    },
    {
      "cell_type": "markdown",
      "source": [
        "del은 pop과 마찬가지로 인덱스를 이용하여 리스트의 값을 삭제한다.\n",
        "\n",
        "리스트의 슬라이싱을 활용하여 삭제도 가능하며, pop과 다르가 리턴값이 없어서 미세하게 더 빠르다. 마찬가지로, 삭제한 후 리스트를 재조정한다."
      ],
      "metadata": {
        "id": "BTNy0zClk3M5"
      }
    },
    {
      "cell_type": "code",
      "source": [
        "# del\n",
        "start_time = time.time()\n",
        "list_del = str_list.copy()\n",
        "del list_del[0]\n",
        "end_time = time.time()\n",
        "print(f'del : {end_time - start_time:.4f}초')"
      ],
      "metadata": {
        "colab": {
          "base_uri": "https://localhost:8080/"
        },
        "id": "1zvQbQRwcH78",
        "outputId": "19cd7b19-cb20-474e-cd58-57c7293235d8"
      },
      "execution_count": 51,
      "outputs": [
        {
          "output_type": "stream",
          "name": "stdout",
          "text": [
            "del : 0.0319초\n"
          ]
        }
      ]
    },
    {
      "cell_type": "markdown",
      "source": [
        "## remove"
      ],
      "metadata": {
        "id": "RgLlyCxwk6-x"
      }
    },
    {
      "cell_type": "markdown",
      "source": [
        "remove는 위의 두개와는 달리 인덱스 입력으로 삭제하는 방식이 아니라 지우고자 하는 값을 입력하는 방법이다.  해당하는 값이 복수로 존재한다면 앞서 존재하는 것을 지운다. "
      ],
      "metadata": {
        "id": "QSV_1byMk8Hn"
      }
    },
    {
      "cell_type": "code",
      "source": [
        "# remove\n",
        "start_time = time.time()\n",
        "list_remove = str_list.copy()\n",
        "list_remove.remove(0)\n",
        "end_time = time.time()\n",
        "print(f'remove : {end_time - start_time:.4f}초')"
      ],
      "metadata": {
        "colab": {
          "base_uri": "https://localhost:8080/"
        },
        "id": "MqFMbAxscKKp",
        "outputId": "24cdaa10-799a-4c63-89e2-d754f0d18691"
      },
      "execution_count": 50,
      "outputs": [
        {
          "output_type": "stream",
          "name": "stdout",
          "text": [
            "remove : 0.0335초\n"
          ]
        }
      ]
    },
    {
      "cell_type": "markdown",
      "source": [
        "## slicing"
      ],
      "metadata": {
        "id": "VvFWati0k_OA"
      }
    },
    {
      "cell_type": "markdown",
      "source": [
        "slicing은 엄밀히 말하면 리스트의 요소 삭제라기 보다는 입력한 범위로 다시 출력하는 방법이다. \n",
        "\n",
        "속도상 가장 느리다."
      ],
      "metadata": {
        "id": "_-HipQSElAOf"
      }
    },
    {
      "cell_type": "code",
      "source": [
        "# slice\n",
        "start_time = time.time()\n",
        "list_slice = str_list.copy()\n",
        "list_slice = list_slice[1:]\n",
        "end_time = time.time()\n",
        "print(f'slice : {end_time - start_time:.4f}초')"
      ],
      "metadata": {
        "colab": {
          "base_uri": "https://localhost:8080/"
        },
        "id": "1vU8Fh_ccHU2",
        "outputId": "9a06b29d-5c90-4c1f-d1f3-fe570cd78b28"
      },
      "execution_count": 52,
      "outputs": [
        {
          "output_type": "stream",
          "name": "stdout",
          "text": [
            "slice : 0.0909초\n"
          ]
        }
      ]
    },
    {
      "cell_type": "markdown",
      "source": [
        "## 요약"
      ],
      "metadata": {
        "id": "HrRF-xe-feol"
      }
    },
    {
      "cell_type": "markdown",
      "source": [
        "- pop : 0.0450초\n",
        "- del : 0.0319초\n",
        "- remove : 0.0335초\n",
        "- slicing : 0.0909초\n",
        "\n",
        "`삭제` 를 기준으로는 del이 가장 빠르고 slicing이 가장 느리다\n",
        "\n",
        "리스트 원본을 보존해야한다면 slicing 사용을 고려해도 괜찮다."
      ],
      "metadata": {
        "id": "afv2J9QKlEcA"
      }
    },
    {
      "cell_type": "markdown",
      "source": [
        "## Reference"
      ],
      "metadata": {
        "id": "AzVGAR8vlF-4"
      }
    },
    {
      "cell_type": "markdown",
      "source": [
        "https://brownbears.tistory.com/452"
      ],
      "metadata": {
        "id": "QoLtwPZolhY4"
      }
    },
    {
      "cell_type": "code",
      "source": [],
      "metadata": {
        "id": "PA85QAONli6P"
      },
      "execution_count": null,
      "outputs": []
    }
  ]
}