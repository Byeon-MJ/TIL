{
  "nbformat": 4,
  "nbformat_minor": 0,
  "metadata": {
    "colab": {
      "private_outputs": true,
      "provenance": [],
      "authorship_tag": "ABX9TyOu2eTxUILfhsyVkGWK9sol",
      "include_colab_link": true
    },
    "kernelspec": {
      "name": "python3",
      "display_name": "Python 3"
    },
    "language_info": {
      "name": "python"
    }
  },
  "cells": [
    {
      "cell_type": "markdown",
      "metadata": {
        "id": "view-in-github",
        "colab_type": "text"
      },
      "source": [
        "<a href=\"https://colab.research.google.com/github/Byeon-MJ/TIL/blob/main/map_filter_zip_enumerate.ipynb\" target=\"_parent\"><img src=\"https://colab.research.google.com/assets/colab-badge.svg\" alt=\"Open In Colab\"/></a>"
      ]
    },
    {
      "cell_type": "markdown",
      "source": [
        "# Built-in Functions\n",
        "파이썬에는 이미 만들어진 많은 내장함수들이 존재하지만 오늘은 map, zip, filter, enumerate를 공부하고 정리해보려고 한다. 나도 여기저기서 자주 보았고, 사용도 해봤지만 할때마다 기억이 잘 안나서 이번 기회에 제대로 정리해두려고 한다."
      ],
      "metadata": {
        "id": "SL9OEVgyRh8y"
      }
    },
    {
      "cell_type": "markdown",
      "source": [
        "## map\n",
        "\n",
        "- **map**(*function*, *iterable*, **iterables*)\n",
        "- map은 입력된 iterable에 function이 적용된 iterator를 반환한다.\n",
        "- function에는 내장함수, 람다함수, method 등을 사용할 수 있다."
      ],
      "metadata": {
        "id": "8y9X6cxXRtjS"
      }
    },
    {
      "cell_type": "code",
      "source": [
        "data = list(range(10))\n",
        "data"
      ],
      "metadata": {
        "id": "OtWNcZIVRwqR"
      },
      "execution_count": null,
      "outputs": []
    },
    {
      "cell_type": "markdown",
      "source": [
        "### Python 내장함수 사용\n",
        "- str() 함수 활용하여 data의 내용을 string으로 타입 변환"
      ],
      "metadata": {
        "id": "fh14e_c2SN5r"
      }
    },
    {
      "cell_type": "code",
      "source": [
        "data_to_str = map(str, data)\n",
        "list(data_to_str)"
      ],
      "metadata": {
        "id": "8LwZyHQoR-Tp"
      },
      "execution_count": null,
      "outputs": []
    },
    {
      "cell_type": "markdown",
      "source": [
        "### lambda 함수 활용"
      ],
      "metadata": {
        "id": "bbdA_1eUSffa"
      }
    },
    {
      "cell_type": "code",
      "source": [
        "result = map(lambda x: x*2, data)\n",
        "list(result)"
      ],
      "metadata": {
        "id": "mFflevsBSLEI"
      },
      "execution_count": null,
      "outputs": []
    },
    {
      "cell_type": "code",
      "source": [
        "data_1 = [1, 2, 3, 4, 5, 6, 7, 8, 9, 10]\n",
        "data_2 = [0, 1, 2, 3, 5, 8, 13, 21, 34, 55]\n",
        "list(map(lambda x, y: x+y, data, data_2))"
      ],
      "metadata": {
        "id": "5c85Yu06T16K"
      },
      "execution_count": null,
      "outputs": []
    },
    {
      "cell_type": "markdown",
      "source": [
        "### 임의로 만든 method 활용"
      ],
      "metadata": {
        "id": "smO6R8AyTHNk"
      }
    },
    {
      "cell_type": "code",
      "source": [
        "def multiplication_three(x):\n",
        "    return x*3"
      ],
      "metadata": {
        "id": "H7alUfh6SeDh"
      },
      "execution_count": null,
      "outputs": []
    },
    {
      "cell_type": "code",
      "source": [
        "result = map(multiplication_three, data)\n",
        "list(result)"
      ],
      "metadata": {
        "id": "K5T8FqzQS_sx"
      },
      "execution_count": null,
      "outputs": []
    },
    {
      "cell_type": "markdown",
      "source": [
        "## filter\n",
        "- **filter**(*function*, *iterable*)\n",
        "- function에 의해 True를 반환하는 값만 필터링 한다"
      ],
      "metadata": {
        "id": "dQw3RRv8UFo6"
      }
    },
    {
      "cell_type": "code",
      "source": [
        "data"
      ],
      "metadata": {
        "id": "ti9Dsz1tUHRj"
      },
      "execution_count": null,
      "outputs": []
    },
    {
      "cell_type": "markdown",
      "source": [
        "### lambda 함수 활용"
      ],
      "metadata": {
        "id": "c6J_cOWXWKnK"
      }
    },
    {
      "cell_type": "code",
      "source": [
        "result = filter(lambda x: True if x % 2 == 1 else False, data)\n",
        "list(result)"
      ],
      "metadata": {
        "id": "R9kuvmurWDe4"
      },
      "execution_count": null,
      "outputs": []
    },
    {
      "cell_type": "markdown",
      "source": [
        "### 선언한 method 활용"
      ],
      "metadata": {
        "id": "bkvUa_JVWRi4"
      }
    },
    {
      "cell_type": "code",
      "source": [
        "def division_three(x):\n",
        "    if x % 3 == 0:\n",
        "        return True\n",
        "    else:\n",
        "        return False"
      ],
      "metadata": {
        "id": "fScu7cOXWdHh"
      },
      "execution_count": null,
      "outputs": []
    },
    {
      "cell_type": "code",
      "source": [
        "result = filter(division_three, data)\n",
        "list(result)"
      ],
      "metadata": {
        "id": "GTWUd5IXWkv3"
      },
      "execution_count": null,
      "outputs": []
    },
    {
      "cell_type": "markdown",
      "source": [
        "## zip\n",
        "- **zip**(**iterables*, *strict=False*)\n",
        "- 서로 다른 자료형을 묶어주는 기능을 한다\n",
        "- size가 작은 iterable이 있다면 그 크기에 맞춰서 묶어준다"
      ],
      "metadata": {
        "id": "LYZfexUnWqOX"
      }
    },
    {
      "cell_type": "code",
      "source": [
        "data1 = [1, 2, 3, 4, 5, 6, 7, 8, 9, 10]\n",
        "data2 = [11, 22, 33, 44, 55, 66, 77, 88, 99, 100]\n",
        "data3 = [5, 6, 7]"
      ],
      "metadata": {
        "id": "0G81VRz5XEeW"
      },
      "execution_count": null,
      "outputs": []
    },
    {
      "cell_type": "code",
      "source": [
        "result = zip(data1, data2)\n",
        "list(result)"
      ],
      "metadata": {
        "id": "KoWz_-XEXOjP"
      },
      "execution_count": null,
      "outputs": []
    },
    {
      "cell_type": "code",
      "source": [
        "result = zip(data1, data2, data3)\n",
        "list(result)"
      ],
      "metadata": {
        "id": "ErUBeGosXSxZ"
      },
      "execution_count": null,
      "outputs": []
    },
    {
      "cell_type": "markdown",
      "source": [
        "### zip을 활용한 dictionary 만들기"
      ],
      "metadata": {
        "id": "rmeDnJiEXY0h"
      }
    },
    {
      "cell_type": "code",
      "source": [
        "number = [1, 2, 3, 4]\n",
        "seasons = ['Spring', 'Summer', 'Fall', 'Winter']\n",
        "dic = {}\n",
        "\n",
        "for number, seasons in zip(number,seasons): \n",
        "    dic[number] = seasons"
      ],
      "metadata": {
        "id": "ayHvkaGWXlsB"
      },
      "execution_count": null,
      "outputs": []
    },
    {
      "cell_type": "code",
      "source": [
        "dic"
      ],
      "metadata": {
        "id": "sGxfs2ixbgSR"
      },
      "execution_count": null,
      "outputs": []
    },
    {
      "cell_type": "markdown",
      "source": [
        "## enumerate\n",
        "- **enumerate**(*iterable*, *start=0*)\n",
        "- itorator를 입력받아 index를 포함한 enumerate 객체를 반환한다\n",
        "- strat는 시작 index를 지정할 수 있다."
      ],
      "metadata": {
        "id": "15Pr_S7MXol4"
      }
    },
    {
      "cell_type": "code",
      "source": [
        "seasons = ['Spring', 'Summer', 'Fall', 'Winter']\n",
        "list(enumerate(seasons))"
      ],
      "metadata": {
        "id": "AecPatrlaIEn"
      },
      "execution_count": null,
      "outputs": []
    },
    {
      "cell_type": "code",
      "source": [
        "list(enumerate(seasons, start=1))"
      ],
      "metadata": {
        "id": "OUt23Zy5bVEB"
      },
      "execution_count": null,
      "outputs": []
    },
    {
      "cell_type": "code",
      "source": [
        "for idx, value in enumerate(seasons):\n",
        "    print(f'인덱스: {idx}, 값: {value}')"
      ],
      "metadata": {
        "id": "99ia1XWVakEf"
      },
      "execution_count": null,
      "outputs": []
    },
    {
      "cell_type": "code",
      "source": [],
      "metadata": {
        "id": "wT2T8HA8bG93"
      },
      "execution_count": null,
      "outputs": []
    }
  ]
}