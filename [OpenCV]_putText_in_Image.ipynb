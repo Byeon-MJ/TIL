{
  "nbformat": 4,
  "nbformat_minor": 0,
  "metadata": {
    "colab": {
      "provenance": [],
      "authorship_tag": "ABX9TyOorsmsFLZpNMjn+U5dbslw",
      "include_colab_link": true
    },
    "kernelspec": {
      "name": "python3",
      "display_name": "Python 3"
    },
    "language_info": {
      "name": "python"
    },
    "gpuClass": "standard"
  },
  "cells": [
    {
      "cell_type": "markdown",
      "metadata": {
        "id": "view-in-github",
        "colab_type": "text"
      },
      "source": [
        "<a href=\"https://colab.research.google.com/github/Byeon-MJ/TIL/blob/main/%5BOpenCV%5D_putText_in_Image.ipynb\" target=\"_parent\"><img src=\"https://colab.research.google.com/assets/colab-badge.svg\" alt=\"Open In Colab\"/></a>"
      ]
    },
    {
      "cell_type": "markdown",
      "source": [
        "# [OpenCV] 이미지에 텍스트 입력하기\n",
        "\n",
        "Computer Vision 관련 이미지 처리 및 딥러닝을 하다보면 이미지에 문자열을 입력해야하는 경우가 생긴다.\n",
        "\n",
        "이때 OpenCV를 사용하여 텍스트를 입력할 수 있다. OpenCV는 Drawing Function을 통해 선이나 도형, 문자열을 넣을수 있는 기능을 제공한다. 이 중에서 putText() 라는 것을 이용해서 이미지에 텍스트를 입력할 수 있다.\n",
        "\n",
        "# cv2.putText\n",
        "\n",
        "### **cv2.putText(img, text, org, fontFace, fontScale, color, thickness, lineType, bottomLeftOrigin)**\n",
        "\n",
        "## Parameters\n",
        "\n",
        "- img : 문자열을 넣을 원본 이미지\n",
        "- text : 출력할 문자열\n",
        "- org : 문자열 좌표(좌측 하단)\n",
        "- fontFace : 출력할 문자열 폰트\n",
        "    - • cv2.FONT_HERSHEY_SIMPLEX , 값: 0, 중간 크기 산세리프 폰트\n",
        "    - cv2.FONT_HERSHEY_PLAIN, 값: 1, 작은 크기 산세리프 폰트\n",
        "    - cv2.FONT_HERSHEY_DUPLEX, 값: 2, 2줄 산세리프 폰트\n",
        "    - cv2.FONT_HERSHEY_COMPLEX, 값: 3, 중간 크기 세리프 폰트\n",
        "    - cv2.FONT_HERSHEY_TRIPLEX, 값: 4, 3줄 세리프 폰트\n",
        "    - cv2.FONT_HERSHEY_COMPLEX_SMALL, 값: 5, COMPLEX 보다 작은 크기\n",
        "    - cv2.FONT_HERSHEY_SCRIPT_SIMPLEX, 값: 6, 필기체 스타일 폰트\n",
        "    - cv2.FONT_HERSHEY_SCRIPT_COMPLEX, 값: 7, 복잡한 필기체 스타일\n",
        "    - cv2.FONT_ITALIC, 값: 16, 이탤릭체를 위한 플래그\n",
        "- fontScale : 문자열 폰트 크기\n",
        "- color : 폰트 색상\n",
        "- thickness : 폰트 두께\n",
        "- lineType : 폰트의 선 종류\n",
        "    - LINE_8 : 8-connected Line(Default)\n",
        "    - LINE_4 : 4-connected Line\n",
        "    - LINE_AA : antialiased line\n",
        "- bottomLeftOrigin : org 사용 옵션, True-좌측하단, False-좌측상단"
      ],
      "metadata": {
        "id": "-ukro9uAk8xm"
      }
    },
    {
      "cell_type": "code",
      "execution_count": 12,
      "metadata": {
        "id": "8zTLfHr-g-2h"
      },
      "outputs": [],
      "source": [
        "import numpy as np\n",
        "import cv2\n",
        "from google.colab.patches import cv2_imshow"
      ]
    },
    {
      "cell_type": "code",
      "source": [
        "# color 설정\n",
        "blue_color = (255, 0, 0)\n",
        "green_color = (0, 255, 0)\n",
        "red_color = (0, 0, 255)\n",
        "white_color = (255, 255, 255)"
      ],
      "metadata": {
        "id": "fUuhwfQWhJoc"
      },
      "execution_count": 2,
      "outputs": []
    },
    {
      "cell_type": "code",
      "source": [
        "# Font 종류\n",
        "fonts = [cv2.FONT_HERSHEY_SIMPLEX,\n",
        "         cv2.FONT_HERSHEY_PLAIN,\n",
        "         cv2.FONT_HERSHEY_DUPLEX,\n",
        "         cv2.FONT_HERSHEY_COMPLEX,\n",
        "         cv2.FONT_HERSHEY_COMPLEX_SMALL,\n",
        "         cv2.FONT_HERSHEY_TRIPLEX,\n",
        "         cv2.FONT_HERSHEY_SCRIPT_SIMPLEX,\n",
        "         cv2.FONT_HERSHEY_SCRIPT_COMPLEX,\n",
        "         cv2.FONT_ITALIC]\n",
        "fonts_str = ['FONT_HERSHEY_SIMPLEX',\n",
        "         'FONT_HERSHEY_PLAIN',\n",
        "         'FONT_HERSHEY_DUPLEX',\n",
        "         'FONT_HERSHEY_COMPLEX',\n",
        "         'FONT_HERSHEY_COMPLEX_SMALL',\n",
        "         'FONT_HERSHEY_TRIPLEX',\n",
        "         'FONT_HERSHEY_SCRIPT_SIMPLEX',\n",
        "         'FONT_HERSHEY_SCRIPT_COMPLEX',\n",
        "         'FONT_ITALIC']"
      ],
      "metadata": {
        "id": "CwswbjOShdQr"
      },
      "execution_count": 25,
      "outputs": []
    },
    {
      "cell_type": "code",
      "source": [
        "# 검정색 이미지 생성\n",
        "img = np.zeros((400, 650, 3))"
      ],
      "metadata": {
        "id": "9Xfdr0tnhweC"
      },
      "execution_count": 55,
      "outputs": []
    },
    {
      "cell_type": "code",
      "source": [
        "# Font 그리기\n",
        "for i in range(0, len(fonts)):\n",
        "    point = 30, 30 + (i * 40)\n",
        "    cv2.putText(img, f'{fonts_str[i]}', point, fonts[i], 1, white_color, 2)"
      ],
      "metadata": {
        "id": "tvYu7j8wh1ra"
      },
      "execution_count": 56,
      "outputs": []
    },
    {
      "cell_type": "code",
      "source": [
        "cv2_imshow(img)"
      ],
      "metadata": {
        "id": "XrDedaA9iN9b",
        "colab": {
          "base_uri": "https://localhost:8080/",
          "height": 417
        },
        "outputId": "f13f20b6-3bda-4189-96ec-3b8d675c2383"
      },
      "execution_count": 58,
      "outputs": [
        {
          "output_type": "display_data",
          "data": {
            "text/plain": [
              "<PIL.Image.Image image mode=RGB size=650x400 at 0x7FA7F3ACAA90>"
            ],
            "image/png": "[encoded data removed]"
          },
          "metadata": {}
        }
      ]
    },
    {
      "cell_type": "markdown",
      "source": [
        "## Reference\n",
        "\n",
        "[https://docs.opencv.org/4.6.0/d6/d6e/group__imgproc__draw.html#ga5126f47f883d730f633d74f07456c576](https://docs.opencv.org/4.6.0/d6/d6e/group__imgproc__draw.html#ga5126f47f883d730f633d74f07456c576)\n",
        "\n",
        "[https://seokii.tistory.com/7](https://seokii.tistory.com/7)\n",
        "\n",
        "[https://copycoding.tistory.com/151](https://copycoding.tistory.com/151)"
      ],
      "metadata": {
        "id": "OnEMJI8LlG6x"
      }
    },
    {
      "cell_type": "code",
      "source": [],
      "metadata": {
        "id": "oToxFe30lHrh"
      },
      "execution_count": null,
      "outputs": []
    }
  ]
}