{
  "nbformat": 4,
  "nbformat_minor": 0,
  "metadata": {
    "colab": {
      "private_outputs": true,
      "provenance": [],
      "collapsed_sections": [
        "hHpJicxeqiGM",
        "NVsoof_PI1oT",
        "TX7z3cOgCO39",
        "wcnzI_OWLFwq"
      ],
      "authorship_tag": "ABX9TyNv/gluZP9mUckphb800/wH",
      "include_colab_link": true
    },
    "kernelspec": {
      "name": "python3",
      "display_name": "Python 3"
    },
    "language_info": {
      "name": "python"
    }
  },
  "cells": [
    {
      "cell_type": "markdown",
      "metadata": {
        "id": "view-in-github",
        "colab_type": "text"
      },
      "source": [
        "<a href=\"https://colab.research.google.com/github/Byeon-MJ/TIL/blob/main/Numpy_Note.ipynb\" target=\"_parent\"><img src=\"https://colab.research.google.com/assets/colab-badge.svg\" alt=\"Open In Colab\"/></a>"
      ]
    },
    {
      "cell_type": "markdown",
      "source": [
        "# About Numpy\n",
        "반복되는 타입을 가진 나열된 데이터 (배열) => Numpy"
      ],
      "metadata": {
        "id": "SitHdLexEzBV"
      }
    },
    {
      "cell_type": "code",
      "source": [
        "import numpy as np"
      ],
      "metadata": {
        "id": "VRGoWgV9oS_r"
      },
      "execution_count": null,
      "outputs": []
    },
    {
      "cell_type": "markdown",
      "source": [
        "# 1. 배열"
      ],
      "metadata": {
        "id": "hHpJicxeqiGM"
      }
    },
    {
      "cell_type": "markdown",
      "source": [
        "## np.array\n",
        "* 리스트 : 컴퓨터가 리스트를 싫어하는 이유\n",
        "1. 길이가 가변적임 -> 메모리 문제\n",
        "2. 들어가는 타입이 지멋대로임 -> int, str?\n",
        "* 배열 (Array)\n",
        "1. 길이가 고정적임 (원소의 갯수를 바꿀 수가 없음)\n",
        "2. 타입이 고정적임 (모든 원소의 타입이 같은 자료형이여함)\n",
        "-> 메모리 문제 (자리? 타입?)\n",
        "=> 적은 메모리로 많은 데이터를 빠르게 처리할 수 있음\n",
        "```\n",
        "Numpy 의 데이터를 추가하거나 삭제하는 것은 추천하지 않음...\n",
        "굳이 해야한다면 새로 만들어서 쌓는것을 활용\n",
        "메모리 활용 구조 상...중간에 데이터가 들어가면 연산이 느리다\n",
        "```"
      ],
      "metadata": {
        "id": "7SNdQiGfoICq"
      }
    },
    {
      "cell_type": "code",
      "source": [
        "arr = np.array([i for i in range(10)])\n",
        "arr"
      ],
      "metadata": {
        "id": "W0bip4zaoa78"
      },
      "execution_count": null,
      "outputs": []
    },
    {
      "cell_type": "code",
      "source": [
        "arr = np.array([1, 2, 3, 4], dtype = int)\n",
        "arr"
      ],
      "metadata": {
        "id": "bbVnqLdM72_R"
      },
      "execution_count": null,
      "outputs": []
    },
    {
      "cell_type": "markdown",
      "source": [
        "## np.ndarray\n",
        "* 배열 객체 타입(자료형)\n",
        "* 리스트와 동일해 보이지만 차이가 많음"
      ],
      "metadata": {
        "id": "GOwNURhSqr8u"
      }
    },
    {
      "cell_type": "code",
      "source": [
        "type(arr)"
      ],
      "metadata": {
        "id": "oVNbaa3Bquay"
      },
      "execution_count": null,
      "outputs": []
    },
    {
      "cell_type": "markdown",
      "source": [
        "## ndarray.shape\n",
        "* 객체의 행, 열 정보를 반환(m행, n열)"
      ],
      "metadata": {
        "id": "vvlEeOqPGeHT"
      }
    },
    {
      "cell_type": "code",
      "source": [
        "# 1차원 배열\n",
        "a = np.array([i*10 for i in range(1, 9)])\n",
        "\n",
        "# 2차원 배열\n",
        "m = np.array([[0, 1, 2], \n",
        "              [3, 4, 5]])   \n",
        "\n",
        "# 3차원 배열\n",
        "t = np.array([[[1, 2, 3, 4],\n",
        "               [5, 6, 7, 8],\n",
        "               [9, 10, 11, 12]],\n",
        "              \n",
        "              [[13, 14, 15, 16],\n",
        "               [15, 16, 17, 18],\n",
        "               [19, 20, 21, 22]]])"
      ],
      "metadata": {
        "id": "5w2D77rT9siE"
      },
      "execution_count": null,
      "outputs": []
    },
    {
      "cell_type": "code",
      "source": [
        "print(a.shape) # 1차원 배열\n",
        "print(m.shape) # 2차원 배열\n",
        "print(t.shape) # 3차원 배열"
      ],
      "metadata": {
        "id": "GV1d4N4--Crq"
      },
      "execution_count": null,
      "outputs": []
    },
    {
      "cell_type": "markdown",
      "source": [
        "## ndarray.size"
      ],
      "metadata": {
        "id": "ta_OAiMvF7S7"
      }
    },
    {
      "cell_type": "code",
      "source": [
        "print(a.size) # 1차원 배열\n",
        "print(m.size) # 2차원 배열\n",
        "print(t.size) # 3차원 배열"
      ],
      "metadata": {
        "id": "q7hgDkkTF7kb"
      },
      "execution_count": null,
      "outputs": []
    },
    {
      "cell_type": "markdown",
      "source": [
        "## ndarray.dtype\n",
        "* 객체의 크기를 반환(m x n)"
      ],
      "metadata": {
        "id": "9nOl3p2DGPJb"
      }
    },
    {
      "cell_type": "code",
      "source": [
        "print(a.dtype) # 1차원 배열\n",
        "print(m.dtype) # 2차원 배열\n",
        "print(t.dtype) # 3차원 배열"
      ],
      "metadata": {
        "id": "UmMkicGVGAly"
      },
      "execution_count": null,
      "outputs": []
    },
    {
      "cell_type": "markdown",
      "source": [
        "## ndarray.ndim\n",
        "* 객체(배열)의 차원을 반환"
      ],
      "metadata": {
        "id": "hs1MTJhd-eNu"
      }
    },
    {
      "cell_type": "code",
      "source": [
        "print(a.ndim) # 1차원 배열\n",
        "print(m.ndim) # 2차원 배열\n",
        "print(t.ndim) # 3차원 배열"
      ],
      "metadata": {
        "id": "J-Vn_Lv3G5Zs"
      },
      "execution_count": null,
      "outputs": []
    },
    {
      "cell_type": "markdown",
      "source": [
        "## ndarray.view(), ndarray.copy()\n",
        "* view : 얕은 복사(shallow Copy)\n",
        "* copy : 깊은 복사(Deep Copy)"
      ],
      "metadata": {
        "id": "jY1gUips-FtT"
      }
    },
    {
      "cell_type": "markdown",
      "source": [
        "### Shallow Copy"
      ],
      "metadata": {
        "id": "82G0PC2u_-oV"
      }
    },
    {
      "cell_type": "code",
      "source": [
        "arr = np.array([1, 2, 3, 4])\n",
        "arr"
      ],
      "metadata": {
        "id": "2yFl9Zkr-0ii"
      },
      "execution_count": null,
      "outputs": []
    },
    {
      "cell_type": "code",
      "source": [
        "# arr2 = arr\n",
        "arr2 = arr.view()\n",
        "arr2"
      ],
      "metadata": {
        "id": "cg0xv1HTRCa7"
      },
      "execution_count": null,
      "outputs": []
    },
    {
      "cell_type": "code",
      "source": [
        "arr[0] = 10\n",
        "arr2"
      ],
      "metadata": {
        "id": "zHGp-DCvAm0U"
      },
      "execution_count": null,
      "outputs": []
    },
    {
      "cell_type": "markdown",
      "source": [
        "### Deep Copy"
      ],
      "metadata": {
        "id": "jh4MdCYtA6Ze"
      }
    },
    {
      "cell_type": "code",
      "source": [
        "arr3 = arr.copy() # 속성은 () X, 메소드(함수) () O\n",
        "arr3"
      ],
      "metadata": {
        "id": "bA-ESPXCRaD7"
      },
      "execution_count": null,
      "outputs": []
    },
    {
      "cell_type": "code",
      "source": [
        "arr[0] = 100\n",
        "arr3"
      ],
      "metadata": {
        "id": "QzsTGMrkRuPV"
      },
      "execution_count": null,
      "outputs": []
    },
    {
      "cell_type": "markdown",
      "source": [
        "## Indexing & Slicing\n",
        "* 리스트의 인덱싱과 같음"
      ],
      "metadata": {
        "id": "Rp3YdFQyBGBW"
      }
    },
    {
      "cell_type": "code",
      "source": [
        "a = np.array([i for i in range(5)])\n",
        "a[2], a[-1]"
      ],
      "metadata": {
        "id": "wP0co5MOAC0l"
      },
      "execution_count": null,
      "outputs": []
    },
    {
      "cell_type": "markdown",
      "source": [
        "### ndimension array indexing\n",
        "* 콤마(comma, ',') 접근\n",
        "* 콤마로 구분된 차원을 축(axis)이라고 함\n",
        "* 그래프의 x축, y축"
      ],
      "metadata": {
        "id": "x3-zo822BXQ8"
      }
    },
    {
      "cell_type": "code",
      "source": [
        "b = np.array([0, 1, 2, 3, 4, 5]).reshape(2, 3)\n",
        "b"
      ],
      "metadata": {
        "id": "tZX8HxSeBZVT"
      },
      "execution_count": null,
      "outputs": []
    },
    {
      "cell_type": "code",
      "source": [
        "b[0, 2]"
      ],
      "metadata": {
        "id": "d6Xx7BgkBbRk"
      },
      "execution_count": null,
      "outputs": []
    },
    {
      "cell_type": "code",
      "source": [
        "a = np.array([i for i in range(8)]).reshape(2, 4)\n",
        "a"
      ],
      "metadata": {
        "id": "qAOv1r2RBfmD"
      },
      "execution_count": null,
      "outputs": []
    },
    {
      "cell_type": "code",
      "source": [
        "a[0, :]"
      ],
      "metadata": {
        "id": "JnAvbwD-BnUr"
      },
      "execution_count": null,
      "outputs": []
    },
    {
      "cell_type": "markdown",
      "source": [
        "### Fancy indexing for Boolean array\n",
        "- 인덱스 배열의 원소가 True, False 두 값으로만 구성되며 인덱스 배열의 크기가 원래 ndarray 객체의 크기와 같을 때\n",
        "- 벡터화 연산 -> 비교, 논리연산"
      ],
      "metadata": {
        "id": "w6kdfjKsBuED"
      }
    },
    {
      "cell_type": "code",
      "source": [
        "a = np.array([i for i in range(10)])\n",
        "a"
      ],
      "metadata": {
        "id": "n-3fpNHwB62z"
      },
      "execution_count": null,
      "outputs": []
    },
    {
      "cell_type": "code",
      "source": [
        "a[a % 2 == 0]"
      ],
      "metadata": {
        "id": "NUm3AKOoRBXq"
      },
      "execution_count": null,
      "outputs": []
    },
    {
      "cell_type": "markdown",
      "source": [
        "### Fancy indexing for Integer array\n",
        "- 특정 정수들의 인덱스 배열을 넣으면, 해당 정수에 대응하는 값을 찾아서 표현해줌\n",
        "- 2-dim 으로 입력하면 해당 좌표 인덱스의 값을 출력"
      ],
      "metadata": {
        "id": "oPPzskCQyZpP"
      }
    },
    {
      "cell_type": "code",
      "source": [
        "a = np.array([i for i in range(10)]) * 11\n",
        "a"
      ],
      "metadata": {
        "id": "1vxGyK6AyggY"
      },
      "execution_count": null,
      "outputs": []
    },
    {
      "cell_type": "code",
      "source": [
        "idx = np.array([0, 2, 4, 6, 8])\n",
        "a[idx]"
      ],
      "metadata": {
        "id": "aVkzEPHeykRu"
      },
      "execution_count": null,
      "outputs": []
    },
    {
      "cell_type": "code",
      "source": [
        "idx2 = np.array([0, 0, 0, 1, 1, 2, 2, 2, 3, 3, 3])\n",
        "a[idx2]"
      ],
      "metadata": {
        "id": "Ld9aLaqWynfl"
      },
      "execution_count": null,
      "outputs": []
    },
    {
      "cell_type": "code",
      "source": [
        "np_matrix = np.array([[1, 2, 3, 4],\n",
        "                      [5, 6, 7, 8],\n",
        "                      [9, 10, 11, 12]], dtype = 'int')\n",
        "np_matrix"
      ],
      "metadata": {
        "id": "oVp2DCjDR_E7"
      },
      "execution_count": null,
      "outputs": []
    },
    {
      "cell_type": "code",
      "source": [
        "np_matrix[[1, 2, 1], \n",
        "          [0, 2, 3]] # (1,0), (2, 2), (1, 3) 선택"
      ],
      "metadata": {
        "id": "_kEJwk73SASL"
      },
      "execution_count": null,
      "outputs": []
    },
    {
      "cell_type": "markdown",
      "source": [
        "## np.where"
      ],
      "metadata": {
        "id": "zw4EmTF5CBwU"
      }
    },
    {
      "cell_type": "code",
      "source": [
        "arr = np.array([1, 2, 3, 4, 5, 4, 4])"
      ],
      "metadata": {
        "id": "sr8pvzcUJzK8"
      },
      "execution_count": null,
      "outputs": []
    },
    {
      "cell_type": "code",
      "source": [
        "x = np.where(arr == 4)  # np.where(condition) -> 조건을 만족시키는 인덱스 리턴\n",
        "x"
      ],
      "metadata": {
        "id": "21n7zpeDCD5j"
      },
      "execution_count": null,
      "outputs": []
    },
    {
      "cell_type": "markdown",
      "source": [
        "# 2. 배열의 연산"
      ],
      "metadata": {
        "id": "NVsoof_PI1oT"
      }
    },
    {
      "cell_type": "markdown",
      "source": [
        "## 벡터화 연산"
      ],
      "metadata": {
        "id": "bQmUykXpoibM"
      }
    },
    {
      "cell_type": "code",
      "source": [
        "x = np.array([0, 1, 2, 3, 4, 5, 6, 7, 8, 9])\n",
        "x"
      ],
      "metadata": {
        "id": "Evk6E7Xtqobo"
      },
      "execution_count": null,
      "outputs": []
    },
    {
      "cell_type": "code",
      "source": [
        "x / 2, x + 2, x ^ 2, x % 2, x ** 2"
      ],
      "metadata": {
        "id": "6-Dw6svP9b11"
      },
      "execution_count": null,
      "outputs": []
    },
    {
      "cell_type": "code",
      "source": [
        "a = np.array([1, 2, 3])\n",
        "b = np.array([10, 20, 30]) # alt + shift + 위아래방향키 -> 복사\n",
        "a, b"
      ],
      "metadata": {
        "id": "raJ9v7nTEIiW"
      },
      "execution_count": null,
      "outputs": []
    },
    {
      "cell_type": "markdown",
      "source": [
        "## 산술 연산\n",
        "* 벡터화 연산은 사칙연산 뿐만 아니라 비교 연산과 논리 연산을 포함한 모든 종류의 수학 연산에 대해 적용"
      ],
      "metadata": {
        "id": "--JjzabmJNPj"
      }
    },
    {
      "cell_type": "code",
      "source": [
        "2 * a + b"
      ],
      "metadata": {
        "id": "W3tKNPxaEGeQ"
      },
      "execution_count": null,
      "outputs": []
    },
    {
      "cell_type": "markdown",
      "source": [
        "## 비교 연산"
      ],
      "metadata": {
        "id": "km2xunksJO6C"
      }
    },
    {
      "cell_type": "code",
      "source": [
        "a == 2, b > 10"
      ],
      "metadata": {
        "id": "ZtYZnUm6E5hK"
      },
      "execution_count": null,
      "outputs": []
    },
    {
      "cell_type": "markdown",
      "source": [
        "## 논리 연산"
      ],
      "metadata": {
        "id": "Ggz6Sq89JWQi"
      }
    },
    {
      "cell_type": "code",
      "source": [
        "(a == 2) & (b > 10) # & : and 연산자 -> (같은 위치의 원소가) 둘 다 True인 경우"
      ],
      "metadata": {
        "id": "QTPxtZnbFJpP"
      },
      "execution_count": null,
      "outputs": []
    },
    {
      "cell_type": "code",
      "source": [
        "(a == 2) | (b > 10) # | : or 연산자 => (같은 위치의) 원소 중 하나가 True인 경우"
      ],
      "metadata": {
        "id": "Q57yUkwOFNb2"
      },
      "execution_count": null,
      "outputs": []
    },
    {
      "cell_type": "markdown",
      "source": [
        "## Inf & NaN\n",
        "* 무한대를 표현하기 위한 'np.inf'(infinity)라는 값이 있음\n",
        "* 정의할 수 없는 숫자 : 'np.nan'(not a number)\n"
      ],
      "metadata": {
        "id": "kJfy91icCTI-"
      }
    },
    {
      "cell_type": "code",
      "source": [
        "x = np.inf\n",
        "y = np.nan"
      ],
      "metadata": {
        "id": "ckSLV23xjUZh"
      },
      "execution_count": null,
      "outputs": []
    },
    {
      "cell_type": "code",
      "source": [
        "x, y"
      ],
      "metadata": {
        "id": "aypO26tXjX0Z"
      },
      "execution_count": null,
      "outputs": []
    },
    {
      "cell_type": "code",
      "source": [
        "np.isnan(x), np.isnan(y)"
      ],
      "metadata": {
        "id": "nktXxpXljcgS"
      },
      "execution_count": null,
      "outputs": []
    },
    {
      "cell_type": "code",
      "source": [
        "print(np.array([0, 1, -1, 0]) / np.array([1, 0, 0, 0]))"
      ],
      "metadata": {
        "id": "Gx8rOZtUCU5b"
      },
      "execution_count": null,
      "outputs": []
    },
    {
      "cell_type": "code",
      "source": [
        "np.log(0)"
      ],
      "metadata": {
        "id": "sq71LvelKdX7"
      },
      "execution_count": null,
      "outputs": []
    },
    {
      "cell_type": "markdown",
      "source": [
        "## np.dot\n",
        "* 행렬의 곱연산"
      ],
      "metadata": {
        "id": "PP4L8Gu9WQr7"
      }
    },
    {
      "cell_type": "code",
      "source": [
        "np_matrix_1 = np.array([[1, 2, 3, 4],\n",
        "                      [5, 6, 7, 8],\n",
        "                      [9, 10, 11, 12]], dtype = 'int')\n",
        "np_matrix_1 # 3 X 4\n",
        "\n",
        "np_matrix_2 = np.arange(13, 25, dtype = 'int').reshape(3,4) # 3 X 4"
      ],
      "metadata": {
        "id": "px3M0re7WS05"
      },
      "execution_count": null,
      "outputs": []
    },
    {
      "cell_type": "code",
      "source": [
        "np.dot(np_matrix_1, np_matrix_2.T)"
      ],
      "metadata": {
        "id": "uO2NQGZ5WW2R"
      },
      "execution_count": null,
      "outputs": []
    },
    {
      "cell_type": "markdown",
      "source": [
        "## np.all\n",
        "* 배열의 모든 원소가 같은지 알고 싶다 np.all(조건식)"
      ],
      "metadata": {
        "id": "_5p4Q4rHciyw"
      }
    },
    {
      "cell_type": "code",
      "source": [
        "a = np.array([1, 2, 3, 4])\n",
        "b = np.array([4, 2, 2, 4])\n",
        "c = np.array([1, 2, 3, 4])\n",
        "a, b, c"
      ],
      "metadata": {
        "id": "pM8g_R40cssp"
      },
      "execution_count": null,
      "outputs": []
    },
    {
      "cell_type": "code",
      "source": [
        "np.all(a == b)"
      ],
      "metadata": {
        "id": "0vqap2-ocxoe"
      },
      "execution_count": null,
      "outputs": []
    },
    {
      "cell_type": "code",
      "source": [
        "np.all(a == c)"
      ],
      "metadata": {
        "id": "QaOVi_AOcyc3"
      },
      "execution_count": null,
      "outputs": []
    },
    {
      "cell_type": "markdown",
      "source": [
        "## np.any\n",
        "* 배열의 원소 중 하나라도 이 조건을 만족시키는가? np.any(조건식)"
      ],
      "metadata": {
        "id": "S57UsjAJckAp"
      }
    },
    {
      "cell_type": "code",
      "source": [
        "np.any(a == b)"
      ],
      "metadata": {
        "id": "XJuESmF_c1Ee"
      },
      "execution_count": null,
      "outputs": []
    },
    {
      "cell_type": "markdown",
      "source": [
        "## np.exp\n",
        "* 지수 연산"
      ],
      "metadata": {
        "id": "a4fKUWluclLA"
      }
    },
    {
      "cell_type": "code",
      "source": [
        "np.exp(a)"
      ],
      "metadata": {
        "id": "PHNb0K_Yc87V"
      },
      "execution_count": null,
      "outputs": []
    },
    {
      "cell_type": "markdown",
      "source": [
        "## np.log\n",
        "* 로그 연산"
      ],
      "metadata": {
        "id": "J_JwrE2Ccmcw"
      }
    },
    {
      "cell_type": "code",
      "source": [
        "np.log(a + 1)"
      ],
      "metadata": {
        "id": "1HYy1It5c_23"
      },
      "execution_count": null,
      "outputs": []
    },
    {
      "cell_type": "markdown",
      "source": [
        "## 브로드캐스팅\n",
        "* 벡터(또는 행렬)끼리 덧셈과 뺄셈... -> 두 벡터(또는 행령) 간의 크기가 일치\n",
        "* Numpy에선 서로 다른 크기를 가진 두 배열의 사칙 연산을 지원 = 브로드캐스팅(broadcasting)\n",
        "> 크기가 작은 배열을 자동으로 반복 확장하여 크기가 큰 배열에 맞춤\n",
        "\n",
        "<br>\n",
        "$$\n",
        "x = \\begin{bmatrix}0\\\\1\\\\2\\\\3\\\\4\\end{bmatrix},\\quad \n",
        "x + 1 = \\begin{bmatrix}0\\\\1\\\\2\\\\3\\\\4\\end{bmatrix} + 1 = ?\n",
        "$$\n",
        "<br>\n",
        "$$\n",
        "\\begin{bmatrix}0\\\\1\\\\2\\\\3\\\\4\\end{bmatrix} + 1\n",
        "= \\begin{bmatrix}0\\\\1\\\\2\\\\3\\\\4\\end{bmatrix}\n",
        "+ \\begin{bmatrix}1\\\\1\\\\1\\\\1\\\\1\\end{bmatrix}\n",
        "= \\begin{bmatrix}1\\\\2\\\\3\\\\4\\\\5\\end{bmatrix}\n",
        "$$"
      ],
      "metadata": {
        "id": "VAY5DyKqdPCI"
      }
    },
    {
      "cell_type": "code",
      "source": [
        "x = np.arange(5)\n",
        "y = np.ones_like(x)\n",
        "x + y "
      ],
      "metadata": {
        "id": "t4siEoDK5LTW"
      },
      "execution_count": null,
      "outputs": []
    },
    {
      "cell_type": "code",
      "source": [
        "x + 1"
      ],
      "metadata": {
        "id": "PlLdVxUj6ENl"
      },
      "execution_count": null,
      "outputs": []
    },
    {
      "cell_type": "code",
      "source": [
        "x = np.vstack([range(7)[i:i+3] for i in range(5)])\n",
        "x, x.shape"
      ],
      "metadata": {
        "id": "uhVhQIg96Fzt"
      },
      "execution_count": null,
      "outputs": []
    },
    {
      "cell_type": "code",
      "source": [
        "y = np.arange(5)[:, np.newaxis]\n",
        "y, y.shape"
      ],
      "metadata": {
        "id": "iVBlUscv6XH2"
      },
      "execution_count": null,
      "outputs": []
    },
    {
      "cell_type": "code",
      "source": [
        "x + y"
      ],
      "metadata": {
        "id": "oLc7N7jx6sLk"
      },
      "execution_count": null,
      "outputs": []
    },
    {
      "cell_type": "code",
      "source": [
        "y = np.arange(3)\n",
        "y, y.shape"
      ],
      "metadata": {
        "id": "q85T59Xt7BHl"
      },
      "execution_count": null,
      "outputs": []
    },
    {
      "cell_type": "code",
      "source": [
        "x + y"
      ],
      "metadata": {
        "id": "vknY41VQ7QWT"
      },
      "execution_count": null,
      "outputs": []
    },
    {
      "cell_type": "markdown",
      "source": [
        "# 3. 배열의 생성\n",
        "* 데이터 타입을 정해주고싶다면 `dtyp`을 사용\n",
        "* `dtype` 인수\n",
        "    * dtype 접두사로 시작하는 문자열\n",
        "    * 접두사 뒤 오는 숫자 = 바이트 수 혹은 글자 수\n",
        "    * 숫자 생략 시 운영체제에 따라 알맞은 크기 지정\n",
        "\n",
        "|dtype 접두사|설명|사용 예|\n",
        "|-|-|-|\n",
        "|`b`|불리언|`b` (참 혹은 거짓)|\n",
        "|`i`|정수|`i8` (64비트)|\n",
        "|`u`|부호 없는 정수|`u8` (64비트)|\n",
        "|`f`|부동소수점|`f8` (64비트)|\n",
        "|`c`|복소 부동소수점|`c16` (128비트)|\n",
        "|`O`|객체|`0` (객체에 대한 포인터)|\n",
        "|`S`|바이트 문자열|`S24` (24 글자)|\n",
        "|`U`|유니코드 문자열|`U24` (24 유니코드 글자)|"
      ],
      "metadata": {
        "id": "TX7z3cOgCO39"
      }
    },
    {
      "cell_type": "markdown",
      "source": [
        "## np.array()"
      ],
      "metadata": {
        "id": "ia7FMpLwKxK5"
      }
    },
    {
      "cell_type": "code",
      "source": [
        "arr = np.array([[1, 2, 3, 4],\n",
        "                [5, 6, 7, 8],\n",
        "                [9, 10, 11, 12]], dtype = np.int64)"
      ],
      "metadata": {
        "id": "lL-QRPzBCjUr"
      },
      "execution_count": null,
      "outputs": []
    },
    {
      "cell_type": "markdown",
      "source": [
        "## np.arange()\n",
        "* 특정 규칙에 따라 증가하는 배열"
      ],
      "metadata": {
        "id": "NGi1U86SChht"
      }
    },
    {
      "cell_type": "code",
      "source": [
        "np.arange(3, 21, 2)"
      ],
      "metadata": {
        "id": "btV-p0CMK6MI"
      },
      "execution_count": null,
      "outputs": []
    },
    {
      "cell_type": "markdown",
      "source": [
        "## np.zeroes()\n",
        "* 1로 초기화된 배열을 생성"
      ],
      "metadata": {
        "id": "SH3BccQeCajl"
      }
    },
    {
      "cell_type": "code",
      "source": [
        "np.zeros(9)"
      ],
      "metadata": {
        "id": "cOuc58p6CbvC"
      },
      "execution_count": null,
      "outputs": []
    },
    {
      "cell_type": "markdown",
      "source": [
        "## np.zeroes_like()"
      ],
      "metadata": {
        "id": "RNbObLvBFL3V"
      }
    },
    {
      "cell_type": "code",
      "source": [
        "np.zeros_like(arr)"
      ],
      "metadata": {
        "id": "rJSVJ1BXFL8w"
      },
      "execution_count": null,
      "outputs": []
    },
    {
      "cell_type": "markdown",
      "source": [
        "## np.ones()\n",
        "* 1로 초기화된 배열을 생성"
      ],
      "metadata": {
        "id": "nchlWn9SCcCN"
      }
    },
    {
      "cell_type": "code",
      "source": [
        "np.ones(9)"
      ],
      "metadata": {
        "id": "t2yuhZZTCd3T"
      },
      "execution_count": null,
      "outputs": []
    },
    {
      "cell_type": "markdown",
      "source": [
        "## np.ones_like"
      ],
      "metadata": {
        "id": "MOmbiBYVE3Oi"
      }
    },
    {
      "cell_type": "code",
      "source": [
        "np.ones_like(arr)"
      ],
      "metadata": {
        "id": "gwmqWWJhFI0L"
      },
      "execution_count": null,
      "outputs": []
    },
    {
      "cell_type": "markdown",
      "source": [
        "## np.identity()"
      ],
      "metadata": {
        "id": "UatHzFS1EiAV"
      }
    },
    {
      "cell_type": "code",
      "source": [
        "np.identity(4)"
      ],
      "metadata": {
        "id": "kduG7YvhEoCb"
      },
      "execution_count": null,
      "outputs": []
    },
    {
      "cell_type": "markdown",
      "source": [
        "## np.diag()"
      ],
      "metadata": {
        "id": "B3FOoCRvEodt"
      }
    },
    {
      "cell_type": "code",
      "source": [
        "np.diag([1, 2, 3, 4])"
      ],
      "metadata": {
        "id": "LyTapXT_EqFj"
      },
      "execution_count": null,
      "outputs": []
    },
    {
      "cell_type": "markdown",
      "source": [
        "## np.eye()"
      ],
      "metadata": {
        "id": "1eX6-XVFEqRk"
      }
    },
    {
      "cell_type": "code",
      "source": [
        "np.eye(N = 3, M = 5, k = 0)"
      ],
      "metadata": {
        "id": "P3w5wMLgEsU6"
      },
      "execution_count": null,
      "outputs": []
    },
    {
      "cell_type": "code",
      "source": [
        "np.eye(N = 3, M = 5, k = 1)"
      ],
      "metadata": {
        "id": "AFhH9eGEILHs"
      },
      "execution_count": null,
      "outputs": []
    },
    {
      "cell_type": "markdown",
      "source": [
        "## np.empty()"
      ],
      "metadata": {
        "id": "6bNuT7vYEuYU"
      }
    },
    {
      "cell_type": "code",
      "source": [
        "np.empty((5, 5))"
      ],
      "metadata": {
        "id": "mUDmB5JTEwMC"
      },
      "execution_count": null,
      "outputs": []
    },
    {
      "cell_type": "markdown",
      "source": [
        "## np.linspace()\n",
        "* 선형구간을 지정한 구간의 수만큼 분할"
      ],
      "metadata": {
        "id": "wt8-k1J6E1wT"
      }
    },
    {
      "cell_type": "code",
      "source": [
        "np.linspace(1,100,33)"
      ],
      "metadata": {
        "id": "qw60rohaExT7"
      },
      "execution_count": null,
      "outputs": []
    },
    {
      "cell_type": "markdown",
      "source": [
        "## np.logspace()\n",
        "* 로그 구간을 지정한 수만큼 분할"
      ],
      "metadata": {
        "id": "i2yySkIZFJf0"
      }
    },
    {
      "cell_type": "code",
      "source": [
        "np.logspace(0.1, 1, 10)"
      ],
      "metadata": {
        "id": "tDbOVzg5LEqh"
      },
      "execution_count": null,
      "outputs": []
    },
    {
      "cell_type": "markdown",
      "source": [
        "# 4. 배열의 변형"
      ],
      "metadata": {
        "id": "wcnzI_OWLFwq"
      }
    },
    {
      "cell_type": "markdown",
      "source": [
        "## ndarray.reshape()"
      ],
      "metadata": {
        "id": "HR-wD6GyLQMs"
      }
    },
    {
      "cell_type": "code",
      "source": [
        "arr = np.arange(1, 7)\n",
        "print(arr)\n",
        "print(arr.shape)"
      ],
      "metadata": {
        "id": "NE07K8J0LR5p"
      },
      "execution_count": null,
      "outputs": []
    },
    {
      "cell_type": "code",
      "source": [
        "arr = arr.reshape(2, 3)\n",
        "print(arr)\n",
        "print(arr.shape)"
      ],
      "metadata": {
        "id": "DWPDaOsQMHkd"
      },
      "execution_count": null,
      "outputs": []
    },
    {
      "cell_type": "markdown",
      "source": [
        "## ndarray.T\n",
        "* 전치 연산(transpose) : 다차원 배열에서 행과 열을 바꾸는 작업"
      ],
      "metadata": {
        "id": "wGieu59ALV5D"
      }
    },
    {
      "cell_type": "code",
      "source": [
        "arr.T"
      ],
      "metadata": {
        "id": "ZXWGzj2hLX05"
      },
      "execution_count": null,
      "outputs": []
    },
    {
      "cell_type": "markdown",
      "source": [
        "## ndarray.flatten()\n",
        "* 다차원 배열을 1차원으로 변환\n",
        "* 리턴값이 메모리를 복사하여 다른 공간에 저장\n",
        "* 복사본을 생성 -> copy() 개념"
      ],
      "metadata": {
        "id": "XNxJVLw3L2ga"
      }
    },
    {
      "cell_type": "code",
      "source": [
        "arr"
      ],
      "metadata": {
        "id": "pl1bQvnxM3ym"
      },
      "execution_count": null,
      "outputs": []
    },
    {
      "cell_type": "code",
      "source": [
        "arr.flatten()"
      ],
      "metadata": {
        "id": "kPsygsWCMPgS"
      },
      "execution_count": null,
      "outputs": []
    },
    {
      "cell_type": "code",
      "source": [
        "arr"
      ],
      "metadata": {
        "id": "hdzBIWuAM43-"
      },
      "execution_count": null,
      "outputs": []
    },
    {
      "cell_type": "markdown",
      "source": [
        "## np.ravel(ndarray, order='C, F, A, K')\n",
        "* order : 'C', 'K', 'A', 'F'\n",
        "* 리턴값이 같은 메모리를 공유\n",
        "* 복사본을 생성 X -> view() 개념"
      ],
      "metadata": {
        "id": "7bZ5OiBmMRHa"
      }
    },
    {
      "cell_type": "markdown",
      "source": [
        "flatten( )은 데이터의 copy를 생성하기 때문에, ravel( ) 보다 느리고, 더 많은 메모리를 필요로 한다. \n",
        "\n",
        "그러나 원본 데이터가 의도치 않게 변경되지 않도록 보호한다. \n",
        "\n",
        "Task에 따라 적절히 골라 사용할 것."
      ],
      "metadata": {
        "id": "w9Q3aiSPOrMf"
      }
    },
    {
      "cell_type": "code",
      "source": [
        "arr"
      ],
      "metadata": {
        "id": "eUbA3P1EM7Rv"
      },
      "execution_count": null,
      "outputs": []
    },
    {
      "cell_type": "code",
      "source": [
        "np.ravel(arr)"
      ],
      "metadata": {
        "id": "rPSEMSOcMb36"
      },
      "execution_count": null,
      "outputs": []
    },
    {
      "cell_type": "code",
      "source": [
        "arr"
      ],
      "metadata": {
        "id": "6mNEmWfmMdWh"
      },
      "execution_count": null,
      "outputs": []
    },
    {
      "cell_type": "markdown",
      "source": [
        "# 5. 배열의 연결"
      ],
      "metadata": {
        "id": "cOWvrOg7QPsD"
      }
    },
    {
      "cell_type": "markdown",
      "source": [
        "## np.concatenate"
      ],
      "metadata": {
        "id": "IFXur0qwQRNh"
      }
    },
    {
      "cell_type": "code",
      "source": [
        "arr1 = np.arange(1, 4)\n",
        "arr2 = np.arange(4, 7)\n",
        "arr1, arr2"
      ],
      "metadata": {
        "id": "FVjxbWgrQV-p"
      },
      "execution_count": null,
      "outputs": []
    },
    {
      "cell_type": "code",
      "source": [
        "# 1차원 배열 연결\n",
        "arr = np.concatenate([arr1, arr2])\n",
        "arr "
      ],
      "metadata": {
        "id": "0ABlaZ5yQZr7"
      },
      "execution_count": null,
      "outputs": []
    },
    {
      "cell_type": "code",
      "source": [
        "# 2차원 배열\n",
        "arr1 = np.arange(1, 5).reshape(2, 2)\n",
        "arr2 = np.arange(5, 9).reshape(2, 2)\n",
        "arr1, arr2"
      ],
      "metadata": {
        "id": "p_z46NEoQZ-c"
      },
      "execution_count": null,
      "outputs": []
    },
    {
      "cell_type": "code",
      "source": [
        "# 행 기준\n",
        "arr = np.concatenate([arr1, arr2], axis = 0) # default : axsi = 0\n",
        "arr "
      ],
      "metadata": {
        "id": "KWrvsSPBQkFS"
      },
      "execution_count": null,
      "outputs": []
    },
    {
      "cell_type": "code",
      "source": [
        "# 열 기준\n",
        "arr = np.concatenate([arr1, arr2], axis = 1)\n",
        "arr "
      ],
      "metadata": {
        "id": "r6NpPA3wQraL"
      },
      "execution_count": null,
      "outputs": []
    },
    {
      "cell_type": "markdown",
      "source": [
        "## np.hstack\n",
        "* 행의 수가 같은 두 개 이상의 배열을 **옆**으로 연결하여 열의 수가 늘어난 배열을 만듦"
      ],
      "metadata": {
        "id": "K9C8Y4QITK-T"
      }
    },
    {
      "cell_type": "code",
      "source": [
        "h1 = np.ones((2, 3))    # 2 x 3\n",
        "h2 = np.zeros((2, 2))   # 2 x 2\n",
        "h1, h2"
      ],
      "metadata": {
        "id": "y--DNFszTOPJ"
      },
      "execution_count": null,
      "outputs": []
    },
    {
      "cell_type": "code",
      "source": [
        "np.hstack([h1, h2])"
      ],
      "metadata": {
        "id": "J4BeEserTR85"
      },
      "execution_count": null,
      "outputs": []
    },
    {
      "cell_type": "markdown",
      "source": [
        "## np.vstack\n",
        "* 열의 수가 같은 두 개 이상의 배열을 **위아래**로 연결하여 행의 수가 늘어난 배열을 만듦"
      ],
      "metadata": {
        "id": "7yKcBqT6TTfh"
      }
    },
    {
      "cell_type": "code",
      "source": [
        "v1 = np.ones((2, 3))\n",
        "v2 = np.zeros((3, 3))\n",
        "v1, v2"
      ],
      "metadata": {
        "id": "xdCy1KoZTXVR"
      },
      "execution_count": null,
      "outputs": []
    },
    {
      "cell_type": "code",
      "source": [
        "np.vstack([v1, v2])"
      ],
      "metadata": {
        "id": "iVFvfNkpTeD5"
      },
      "execution_count": null,
      "outputs": []
    },
    {
      "cell_type": "markdown",
      "source": [
        "## np.dstack\n",
        "* 제3의 축 즉, 행이나 열이 아니라 깊이(depth) 방향으로 배열을 합침\n",
        "* 가장 안쪽의 원소의 차원이 증가, 즉 가장 내부의 숫자 원소가 배열"
      ],
      "metadata": {
        "id": "21M905CkTf1Z"
      }
    },
    {
      "cell_type": "code",
      "source": [
        "d1 = np.ones((3, 4))\n",
        "d2 = np.zeros((3, 4))\n",
        "d1, d2"
      ],
      "metadata": {
        "id": "FtOiDrW8TkOY"
      },
      "execution_count": null,
      "outputs": []
    },
    {
      "cell_type": "code",
      "source": [
        "d1.shape, d2.shape"
      ],
      "metadata": {
        "id": "5HW04DjITzxC"
      },
      "execution_count": null,
      "outputs": []
    },
    {
      "cell_type": "code",
      "source": [
        "np.dstack([d1, d2])"
      ],
      "metadata": {
        "id": "EeeQm-GoTpAS"
      },
      "execution_count": null,
      "outputs": []
    },
    {
      "cell_type": "code",
      "source": [
        "np.dstack([d1, d2]).shape"
      ],
      "metadata": {
        "id": "3df1qhWSTtpQ"
      },
      "execution_count": null,
      "outputs": []
    },
    {
      "cell_type": "markdown",
      "source": [
        "## np.stack\n",
        "* 지정한 차원(축)으로 배열을 연결\n",
        "* axis 인수(디폴트 0)를 사용하여 연결후의 회전 방향을 정함"
      ],
      "metadata": {
        "id": "ghg2FUx4Tx-x"
      }
    },
    {
      "cell_type": "code",
      "source": [
        "s = np.stack([d1, d2])  # axis = 0\n",
        "s, s.shape"
      ],
      "metadata": {
        "id": "XHVt0u6bT7ro"
      },
      "execution_count": null,
      "outputs": []
    },
    {
      "cell_type": "code",
      "source": [
        "s = np.stack([d1, d2], axis = 1)  # axis = 0\n",
        "s, s.shape"
      ],
      "metadata": {
        "id": "Lot1Ljc9UGuy"
      },
      "execution_count": null,
      "outputs": []
    },
    {
      "cell_type": "code",
      "source": [
        "s = np.stack([d1, d2], axis = 2)  # axis = 0\n",
        "s, s.shape"
      ],
      "metadata": {
        "id": "Gq9cg-hFUKrj"
      },
      "execution_count": null,
      "outputs": []
    },
    {
      "cell_type": "markdown",
      "source": [
        "## np.r_\n",
        "* hstack 비슷하게 배열을 좌-우 연결\n",
        "* 메소드 소괄호(parenthesis, ())를 사용하지 않고, 대괄호 (bracket, [])를 사용\n",
        "* 특수 메소드 = 인덱서(indexer)"
      ],
      "metadata": {
        "id": "pmnWQrllU0dZ"
      }
    },
    {
      "cell_type": "code",
      "source": [
        "a1 = np.arange(1, 4)\n",
        "a1, a1.shape"
      ],
      "metadata": {
        "id": "Y9WCaKd9U7DS"
      },
      "execution_count": null,
      "outputs": []
    },
    {
      "cell_type": "code",
      "source": [
        "a2 = np.arange(4, 7)\n",
        "a2, a2.shape"
      ],
      "metadata": {
        "id": "5ZpTOBoZU7DT"
      },
      "execution_count": null,
      "outputs": []
    },
    {
      "cell_type": "code",
      "source": [
        "a = np.r_[a1, a2]\n",
        "a, a.shape"
      ],
      "metadata": {
        "id": "F8SIyE0rU7DT"
      },
      "execution_count": null,
      "outputs": []
    },
    {
      "cell_type": "markdown",
      "source": [
        "## np.c_\n",
        "* 배열의 차원을 증가시킨 뒤 좌우로 연결"
      ],
      "metadata": {
        "id": "9Uyl5lwmULuz"
      }
    },
    {
      "cell_type": "code",
      "source": [
        "a1 = np.arange(1, 4)\n",
        "a1, a1.shape"
      ],
      "metadata": {
        "id": "t6Tzk1CSUjM6"
      },
      "execution_count": null,
      "outputs": []
    },
    {
      "cell_type": "code",
      "source": [
        "a2 = np.arange(4, 7)\n",
        "a2, a2.shape"
      ],
      "metadata": {
        "id": "4piqMutaUlVz"
      },
      "execution_count": null,
      "outputs": []
    },
    {
      "cell_type": "code",
      "source": [
        "a = np.c_[a1, a2]\n",
        "a, a.shape"
      ],
      "metadata": {
        "id": "r2dfHndYUc3g"
      },
      "execution_count": null,
      "outputs": []
    },
    {
      "cell_type": "markdown",
      "source": [
        "## np.tile\n",
        "* 동일한 배열을 반복하여 연결"
      ],
      "metadata": {
        "id": "j9Yl7skrUeqB"
      }
    },
    {
      "cell_type": "code",
      "source": [
        "a = np.arange(6).reshape(2, -1)\n",
        "a"
      ],
      "metadata": {
        "id": "LETPZVH4VLiD"
      },
      "execution_count": null,
      "outputs": []
    },
    {
      "cell_type": "code",
      "source": [
        "np.tile(a, 2) # 반복할 배열, 반복할 횟수 (행로 2번)"
      ],
      "metadata": {
        "id": "OGDnK9D6Vgbx"
      },
      "execution_count": null,
      "outputs": []
    },
    {
      "cell_type": "code",
      "source": [
        "np.tile(a, (3, 2)) # 행으로 3번, 열로 2번"
      ],
      "metadata": {
        "id": "TmkTYn16VhcQ"
      },
      "execution_count": null,
      "outputs": []
    },
    {
      "cell_type": "markdown",
      "source": [
        "# 배열 분할"
      ],
      "metadata": {
        "id": "XnzAP8wdY46C"
      }
    },
    {
      "cell_type": "markdown",
      "source": [
        "## np.array_split\n",
        "* np.array_split(arr, n)\n",
        "* np.hsplit(arr, n)\n",
        "* np.vsplit(arr, n)\n",
        "* np.dsplit(arr, n) -> 쪼개줄 방향, 수"
      ],
      "metadata": {
        "id": "rZ-ZzKVlViRh"
      }
    },
    {
      "cell_type": "code",
      "source": [
        "arr = np.arange(1, 13).reshape(-1, 3)\n",
        "arr"
      ],
      "metadata": {
        "id": "PSiyzlHzY7qR"
      },
      "execution_count": null,
      "outputs": []
    },
    {
      "cell_type": "code",
      "source": [
        "np.array_split(arr, 4)"
      ],
      "metadata": {
        "id": "_1eT9NtGY8B4"
      },
      "execution_count": null,
      "outputs": []
    },
    {
      "cell_type": "code",
      "source": [
        "np.array_split(arr, 3, axis=1)"
      ],
      "metadata": {
        "id": "Mw091c7RY9JY"
      },
      "execution_count": null,
      "outputs": []
    },
    {
      "cell_type": "markdown",
      "source": [
        "# 차원 확장"
      ],
      "metadata": {
        "id": "KNmmomWFZN7o"
      }
    },
    {
      "cell_type": "markdown",
      "source": [
        "## np.newaxis\n",
        "* 같은 배열에 대해 차원만 1차원 증가(newaxis)"
      ],
      "metadata": {
        "id": "hwC_9i-Ldoei"
      }
    },
    {
      "cell_type": "code",
      "source": [
        "x = np.arange(5)\n",
        "x"
      ],
      "metadata": {
        "id": "NIEun5nvJeoy"
      },
      "execution_count": null,
      "outputs": []
    },
    {
      "cell_type": "code",
      "source": [
        "y =x[:, np.newaxis]\n",
        "y, y.shape"
      ],
      "metadata": {
        "id": "sf1SMUxtJhsr"
      },
      "execution_count": null,
      "outputs": []
    },
    {
      "cell_type": "markdown",
      "source": [
        "## np.expand_dims"
      ],
      "metadata": {
        "id": "Q-VNos5sdxNf"
      }
    },
    {
      "cell_type": "code",
      "source": [
        "a = np.arange(12).reshape(3,4)\n",
        "print(a)\n",
        "print(a.shape)"
      ],
      "metadata": {
        "id": "wewJFfSceD2n"
      },
      "execution_count": null,
      "outputs": []
    },
    {
      "cell_type": "code",
      "source": [
        "a1 = np.expand_dims(a, axis = 1)\n",
        "print(a1)\n",
        "print(a1.shape)"
      ],
      "metadata": {
        "id": "Zv-Py-28eF7f"
      },
      "execution_count": null,
      "outputs": []
    },
    {
      "cell_type": "code",
      "source": [
        "a2 = np.expand_dims(a, axis = -1)\n",
        "print(a2)\n",
        "print(a2.shape)"
      ],
      "metadata": {
        "id": "jJYlujPVeG6w"
      },
      "execution_count": null,
      "outputs": []
    },
    {
      "cell_type": "code",
      "source": [
        "a3 = np.expand_dims(a, axis = 0)\n",
        "print(a3)\n",
        "print(a3.shape)"
      ],
      "metadata": {
        "id": "T9dOkhnjeVr3"
      },
      "execution_count": null,
      "outputs": []
    },
    {
      "cell_type": "code",
      "source": [
        "# 차원 확장 연습\n",
        "a = np.arange(6).reshape(2,3)\n",
        "\n",
        "a1 = np.expand_dims(a, axis=0)\n",
        "print(a1)\n",
        "print(a1.shape)\n",
        "\n",
        "a2 = np.expand_dims(a, axis=1)\n",
        "print(a2)\n",
        "print(a2.shape)\n",
        "\n",
        "a3 = np.expand_dims(a, axis=2)   # axis = -1\n",
        "print(a3)\n",
        "print(a3.shape)"
      ],
      "metadata": {
        "id": "AgcBailxeZjX"
      },
      "execution_count": null,
      "outputs": []
    },
    {
      "cell_type": "markdown",
      "source": [
        "# 차원 축소"
      ],
      "metadata": {
        "id": "GCtWRhEoedwP"
      }
    },
    {
      "cell_type": "markdown",
      "source": [
        "## np.squeeze"
      ],
      "metadata": {
        "id": "n-zKYolceioy"
      }
    },
    {
      "cell_type": "code",
      "source": [
        "a = np.arange(12).reshape((1, 3, 4))\n",
        "print(a)\n",
        "print(a.shape)\n",
        "\n",
        "a = np.squeeze(a)\n",
        "print(a)\n",
        "print(a.shape)"
      ],
      "metadata": {
        "id": "K8O3eEP4etn2"
      },
      "execution_count": null,
      "outputs": []
    },
    {
      "cell_type": "code",
      "source": [
        "# default : 필요없는 1이 있는 차원을 다 없앤다.\n",
        "a = np.arange(12).reshape((1, 3, 1, 4))\n",
        "print(a)\n",
        "print(a.shape)\n",
        "\n",
        "a = np.squeeze(a)\n",
        "print(a)\n",
        "print(a.shape)"
      ],
      "metadata": {
        "id": "SmIDISHlexd3"
      },
      "execution_count": null,
      "outputs": []
    },
    {
      "cell_type": "code",
      "source": [
        "# 축 지정으로 차원 축소\n",
        "a = np.arange(12).reshape((1, 3, 1, 4))\n",
        "a = np.squeeze(a, axis=0)\n",
        "print(a.shape)"
      ],
      "metadata": {
        "id": "uG2Ad14je1Jv"
      },
      "execution_count": null,
      "outputs": []
    },
    {
      "cell_type": "markdown",
      "source": [
        "# 통계값"
      ],
      "metadata": {
        "id": "RK6bZpCue2UH"
      }
    },
    {
      "cell_type": "markdown",
      "source": [
        "## sum\n",
        "* 합치면 축 하나가 사라진다. \n",
        "* axis 에는 없애고자 하는 축 번호를 넣는다고 생각하면 쉽다."
      ],
      "metadata": {
        "id": "2Xlo_E8qfD6R"
      }
    },
    {
      "cell_type": "code",
      "source": [
        "a = np.arange(1, 5)\n",
        "print(a)\n",
        "\n",
        "s = np.sum(a, axis=0)\n",
        "print(s)\n",
        "print(s.shape)"
      ],
      "metadata": {
        "id": "6ziuR5VFjuOX"
      },
      "execution_count": null,
      "outputs": []
    },
    {
      "cell_type": "code",
      "source": [
        "np.sum(a), a.sum()  # arr.sum()"
      ],
      "metadata": {
        "id": "MxAhAxLbjwK_"
      },
      "execution_count": null,
      "outputs": []
    },
    {
      "cell_type": "markdown",
      "source": [
        "## min, max"
      ],
      "metadata": {
        "id": "Fz8EVKjxk3Uv"
      }
    },
    {
      "cell_type": "code",
      "source": [
        "x = np.array([1, 3, 2])\n",
        "x"
      ],
      "metadata": {
        "id": "oJs5QeQvlHw2"
      },
      "execution_count": null,
      "outputs": []
    },
    {
      "cell_type": "code",
      "source": [
        "x.min(), x.max()"
      ],
      "metadata": {
        "id": "CoFEfFunlIqF"
      },
      "execution_count": null,
      "outputs": []
    },
    {
      "cell_type": "code",
      "source": [
        "np.min(x), np.max(x)"
      ],
      "metadata": {
        "id": "plhDBeTklJa2"
      },
      "execution_count": null,
      "outputs": []
    },
    {
      "cell_type": "markdown",
      "source": [
        "## argmin, argmax"
      ],
      "metadata": {
        "id": "U2W6bWM8lKJ-"
      }
    },
    {
      "cell_type": "code",
      "source": [
        "# 최소값의 인덱스\n",
        "x.argmin()"
      ],
      "metadata": {
        "id": "ATqMXvt5lPVu"
      },
      "execution_count": null,
      "outputs": []
    },
    {
      "cell_type": "code",
      "source": [
        "# 최대값의 인덱스\n",
        "x.argmax()"
      ],
      "metadata": {
        "id": "PRRDUREklRiG"
      },
      "execution_count": null,
      "outputs": []
    },
    {
      "cell_type": "markdown",
      "source": [
        "## mean\n",
        "* 표본 평균\n",
        "* 통계용어로는 표본 평균(sample average, sample mean)\n",
        "<br>\n",
        "$\n",
        "\\bar{x} = \\frac{1}{N}\\displaystyle\\sum_{i=1}^{N}{x_i}\n",
        "$\n",
        "(𝑁은 데이터의 개수)"
      ],
      "metadata": {
        "id": "ojBP5UdGlUT2"
      }
    },
    {
      "cell_type": "code",
      "source": [
        "x = np.array([1, 2, 3, 1])"
      ],
      "metadata": {
        "id": "k88_h9sDlWz3"
      },
      "execution_count": null,
      "outputs": []
    },
    {
      "cell_type": "code",
      "source": [
        "# x.mean()\n",
        "np.mean(x)"
      ],
      "metadata": {
        "id": "SakSRREOlYov"
      },
      "execution_count": null,
      "outputs": []
    },
    {
      "cell_type": "markdown",
      "source": [
        "## median\n",
        "* 중앙값(median) : 데이터를 크기대로 정렬하였을 때 가장 가운데에 있는 수\n",
        "* 만약 데이터의 수가 짝수이면 가장 가운데에 있는 두 수의 평균을 사용"
      ],
      "metadata": {
        "id": "MwWNhJnnlZg_"
      }
    },
    {
      "cell_type": "code",
      "source": [
        "np.median(x)"
      ],
      "metadata": {
        "id": "XBrsehkelbM-"
      },
      "execution_count": null,
      "outputs": []
    },
    {
      "cell_type": "markdown",
      "source": [
        "## var\n",
        "* 표본 분산(sample variance) : 데이터와 표본 평균간의 거리의 제곱의 평균\n",
        "* 표본 분산이 작으면 데이터가 모여있는 것이고 크면 흩어져 있는 것\n",
        "<br>\n",
        "$\n",
        "s^2 = \\frac{1}{N}\\displaystyle\\sum_{i=1}^{N}{(x_i-\\bar{x})^2}\n",
        "$"
      ],
      "metadata": {
        "id": "zS4C44wNlcCP"
      }
    },
    {
      "cell_type": "code",
      "source": [
        "np.var(x)"
      ],
      "metadata": {
        "id": "FFwa_dHxl7Nd"
      },
      "execution_count": null,
      "outputs": []
    },
    {
      "cell_type": "markdown",
      "source": [
        "## std\n",
        "* 표본 표준편차(sample standard variance) : 표본 분산의 양의 제곱근 값 \n",
        "<br>\n",
        "$\n",
        "s = \\sqrt{s^2}\n",
        "$"
      ],
      "metadata": {
        "id": "_VkjIALDl7_t"
      }
    },
    {
      "cell_type": "code",
      "source": [
        "np.std(x)"
      ],
      "metadata": {
        "id": "_VB_wVubl_ge"
      },
      "execution_count": null,
      "outputs": []
    },
    {
      "cell_type": "markdown",
      "source": [
        "## percentile\n",
        "* 사분위수(quartile) : 데이터를 가장 작은 수부터 가장 큰 수까지 크기가 커지는 순서대로 정렬하였을 때 1/4, 2/4, 3/4 위치에 있는 수\n",
        "* 각각 1사분위수, 2사분위수, 3사분위수라고 함\n",
        "* 1/4의 위치란 전체 데이터의 수가 만약 100개이면 25번째 순서, 즉 하위 25%\n",
        "* 따라서 2사분위수는 중앙값과 같음\n",
        "* 때로는 위치를 1/100 단위로 나눈 백분위수(percentile)을 사용하기도 함\n",
        "* 1사분위수는 25% 백분위수와 같음"
      ],
      "metadata": {
        "id": "nIZN7ljKl_w2"
      }
    },
    {
      "cell_type": "code",
      "source": [
        "np.percentile(x, 0)  # 최솟값 "
      ],
      "metadata": {
        "id": "8ICtwSOfMKbR"
      },
      "execution_count": null,
      "outputs": []
    },
    {
      "cell_type": "code",
      "source": [
        "np.percentile(x, 25)  # 1사분위 수 100 중 25 => 25/100 => 1/4"
      ],
      "metadata": {
        "id": "6UY3k19KMK32"
      },
      "execution_count": null,
      "outputs": []
    },
    {
      "cell_type": "code",
      "source": [
        "np.percentile(x, 50)  # 2사분위 수 2/4"
      ],
      "metadata": {
        "id": "ElxM12iwMPEL"
      },
      "execution_count": null,
      "outputs": []
    },
    {
      "cell_type": "code",
      "source": [
        "np.percentile(x, 75)  # 3사분위 수 "
      ],
      "metadata": {
        "id": "0FvCB1erMQYf"
      },
      "execution_count": null,
      "outputs": []
    },
    {
      "cell_type": "code",
      "source": [
        "np.percentile(x, 100)  # 최댓값 "
      ],
      "metadata": {
        "id": "nMAAX0ECMRze"
      },
      "execution_count": null,
      "outputs": []
    },
    {
      "cell_type": "markdown",
      "source": [
        "# 난수 생성\n",
        "* 난수? 임의의 수? 무작위 수?\n",
        "* 컴퓨터 프로그램에서 발생하는 무작위의 수는 실은 엄격한 의미의 무작위 수가 아님\n",
        "* 어떠한 특정한 시작 숫자를 정해주면 컴퓨터가 정해진 알고리즘에 이해 마치 난수처럼 보이는 수열을 생성 -> 이런 시작 숫자를 시드(seed)라고 함"
      ],
      "metadata": {
        "id": "-CKm9o4UmfWQ"
      }
    },
    {
      "cell_type": "markdown",
      "source": [
        "## seed\n",
        "* 시드 설정\n",
        "* 일단 생성된 나수는 다음번 난수 생성을 위한 시드값이 됨.\n",
        "* 시드값은 한 번만 정해주면 됨.\n",
        "* 시드 -> 현재 시각 등 -> 자동으로 정해짐. 사람이 수동으로 설정.\n",
        "* 수동으로 설정 -> 그 다음에 만들어진 난수는 모두 예측가능한 값.\n",
        "* 고정된 결과를 얻기 위해서는 실습 때 **시드**를 설정"
      ],
      "metadata": {
        "id": "QurAoRTCmgiy"
      }
    },
    {
      "cell_type": "code",
      "source": [
        "np.random.seed(0)   # 시드값 고정"
      ],
      "metadata": {
        "id": "KMHkpafimnY-"
      },
      "execution_count": null,
      "outputs": []
    },
    {
      "cell_type": "markdown",
      "source": [
        "## rand\n",
        "* 0과 1 사이의 실수의 난수를 발생\n",
        "\n",
        "`np.random.rand(n)` : 생성할 난수의 수 <br>\n",
        "`np.random.rand(m, n)` : 배열 모양으로 생성"
      ],
      "metadata": {
        "id": "s6xFHxzmmo2_"
      }
    },
    {
      "cell_type": "code",
      "source": [
        "np.random.rand(5)"
      ],
      "metadata": {
        "id": "B-cPqywdmtv-"
      },
      "execution_count": null,
      "outputs": []
    },
    {
      "cell_type": "code",
      "source": [
        "np.random.rand(3, 5)"
      ],
      "metadata": {
        "id": "yj791uapmuaL"
      },
      "execution_count": null,
      "outputs": []
    },
    {
      "cell_type": "markdown",
      "source": [
        "## randn\n",
        "* 표준 정규 분포를 따르는 난수 발생"
      ],
      "metadata": {
        "id": "sTZRfAwymz6c"
      }
    },
    {
      "cell_type": "code",
      "source": [
        "np.random.randn(10)"
      ],
      "metadata": {
        "id": "sv_2FFTWm-8E"
      },
      "execution_count": null,
      "outputs": []
    },
    {
      "cell_type": "code",
      "source": [
        "import pandas as pd\n",
        "df = pd.DataFrame(np.random.randn(1000))\n",
        "df.hist()"
      ],
      "metadata": {
        "id": "jryXFAnjnAFK"
      },
      "execution_count": null,
      "outputs": []
    },
    {
      "cell_type": "markdown",
      "source": [
        "## randint\n",
        "* 임의의 범위의 정수 숫자들을 리턴\n",
        "* low~high값까지의 범위에 임의 정수를 반환\n",
        "\n",
        "* high를 입력하지 않으면 0~low\n",
        "* size를 입력하지 않으면 1만. size 입력하면 그만큼"
      ],
      "metadata": {
        "id": "eTgVqnoZnDRR"
      }
    },
    {
      "cell_type": "code",
      "source": [
        "np.random.randint(10, 20, size=10)"
      ],
      "metadata": {
        "id": "Y-rCp0u5nIn5"
      },
      "execution_count": null,
      "outputs": []
    },
    {
      "cell_type": "markdown",
      "source": [
        "## shuffle\n",
        "* 데이터의 순서를 변경\n",
        "* 자체 변환 함수(in-place) 함수 -> 원본에 영향"
      ],
      "metadata": {
        "id": "-EFrQBrmntet"
      }
    },
    {
      "cell_type": "code",
      "source": [
        "x = np.arange(10)\n",
        "x"
      ],
      "metadata": {
        "id": "SmuDwfnBn8gN"
      },
      "execution_count": null,
      "outputs": []
    },
    {
      "cell_type": "code",
      "source": [
        "np.random.shuffle(x)\n",
        "x"
      ],
      "metadata": {
        "id": "2SuXyFyLoC--"
      },
      "execution_count": null,
      "outputs": []
    },
    {
      "cell_type": "markdown",
      "source": [
        "## choice\n",
        "- 데이터 샘플링에 사용\n",
        "- a : 배열이면 원래의 데이터, 정수이면 arange(a) 명령으로 데이터 생성\n",
        "- size : 정수. 샘플 숫자\n",
        "- replace : 불리언. True이면 한번 선택한 데이터를 다시 선택 가능 (복원/비복원 추출)\n",
        "- p : 배열. 각 데이터가 선택될 수 있는 확률\n",
        "```\n",
        "np.random.choice(a, size=None, replace=True, p=None)\n",
        "```"
      ],
      "metadata": {
        "id": "JuM-dNQGoD1m"
      }
    },
    {
      "cell_type": "code",
      "source": [
        "# np.random.choice(추출 대상이 될 배열, 추출할 사이즈, 복원 여부, 개별 확률)\n",
        "np.random.choice(5, 5, replace=False)\n",
        "np.random.choice(5, 3, replace=False)   # 비복원 추출 : 자리뽑기, 경품뽑기"
      ],
      "metadata": {
        "id": "fMTe7wsBTo1k"
      },
      "execution_count": null,
      "outputs": []
    },
    {
      "cell_type": "code",
      "source": [
        "np.random.choice(5, 5, replace=True)    # 복원 추출 : 동전던지기, 주사위던지기"
      ],
      "metadata": {
        "id": "zR9yeWQaUFip"
      },
      "execution_count": null,
      "outputs": []
    },
    {
      "cell_type": "code",
      "source": [
        "# arange(5) = [0, 1, 2, 3, 4] => 10\n",
        "np.random.choice(5, 10, p=[0.1, 0, 0.3, 0.6, 0])"
      ],
      "metadata": {
        "id": "RnwbAp__ULGh"
      },
      "execution_count": null,
      "outputs": []
    },
    {
      "cell_type": "markdown",
      "source": [
        "# 데이터 카운팅\n",
        "* 만약 난수가 정수값이면 unique 명령이나 bincount 명령으로 데이터의 빈도가 값을 분석"
      ],
      "metadata": {
        "id": "kqExC0S7oZWO"
      }
    },
    {
      "cell_type": "markdown",
      "source": [
        "## unique\n",
        "* unique 함수는 데이터에서 중복된 값을 제거하고 중복되지 않은 값의 리스트 출력 (set?)\n",
        "* return_counts 인수를 True로 설정하면 각 값을 가진 데이터 갯수도 출력"
      ],
      "metadata": {
        "id": "k1053FMNoi5R"
      }
    },
    {
      "cell_type": "code",
      "source": [
        "np.unique([11, 11, 2, 2, 34, 34])"
      ],
      "metadata": {
        "id": "_L-_XQbZomzG"
      },
      "execution_count": null,
      "outputs": []
    },
    {
      "cell_type": "code",
      "source": [
        "a = np.array(['a', 'b', 'b', 'c', 'a'])\n",
        "# np.unique(a, return_counts=True)\n",
        "index, count = np.unique(a, return_counts=True)"
      ],
      "metadata": {
        "id": "09aMSotFpJqK"
      },
      "execution_count": null,
      "outputs": []
    },
    {
      "cell_type": "code",
      "source": [
        "list(zip(index, count))"
      ],
      "metadata": {
        "id": "tD0N09pjpK6K"
      },
      "execution_count": null,
      "outputs": []
    },
    {
      "cell_type": "markdown",
      "source": [
        "## bincount\n",
        "* `unique` 함수는 데이터에 존재하는 값에 대해서만 갯수를 세므로 데이터 값이 나올 수 있음에도 불구하고 데이터가 하나도 없는 경우에는 정보를 주지 않음\n",
        "* 따라서 데이터가 주사위를 던졌을 때 나오는 수처럼 특정 범위안의 수인 경우에는 `bincount` 함수에 `minlength` 인수를 설정하여 쓰는 것이 더 편리\n",
        "* `bincount` 함수는 0 부터 `minlength` - 1 까지의 숫자에 대해 각각 카운트\n",
        "* 데이터가 없을 경우에는 카운트 값이 0이 됨"
      ],
      "metadata": {
        "id": "prPZE9ijpMMr"
      }
    },
    {
      "cell_type": "code",
      "source": [
        "r = np.random.randint(6, size = 10) # 0~5\n",
        "r"
      ],
      "metadata": {
        "id": "nYs5PgU-g3SH"
      },
      "execution_count": null,
      "outputs": []
    },
    {
      "cell_type": "code",
      "source": [
        "np.unique(r, return_counts=True)"
      ],
      "metadata": {
        "id": "1dlB2FOMhJHq"
      },
      "execution_count": null,
      "outputs": []
    },
    {
      "cell_type": "code",
      "source": [
        "np.bincount(r, minlength=6)"
      ],
      "metadata": {
        "id": "9HfOB-log7fP"
      },
      "execution_count": null,
      "outputs": []
    },
    {
      "cell_type": "markdown",
      "source": [
        "## 정렬"
      ],
      "metadata": {
        "id": "9oFd_1zWpTqr"
      }
    },
    {
      "cell_type": "markdown",
      "source": [
        "## sort\n",
        "* `sort` : 배열 안의 원소를 크기에 따라 정렬하여 새로운 배열 생성\n",
        "* 2차원 이상인 경우 -> 행이나 열을 따로따로 정렬\n",
        "    * axis=0 : 각각의 행을 따로따로 정렬\n",
        "    * axis=1 : 각각의 열을 따로따로 정렬\n",
        "    * axis=-1 : 가장 안쪽(나중)의 차원"
      ],
      "metadata": {
        "id": "1IwVb7ympgeo"
      }
    },
    {
      "cell_type": "code",
      "source": [
        "a = np.array(\n",
        "    [[4, 3, 5, 7],\n",
        "    [1, 12, 11, 9],\n",
        "    [2, 15, 1, 14]]\n",
        ")\n",
        "a"
      ],
      "metadata": {
        "id": "5612dObfGZUS"
      },
      "execution_count": null,
      "outputs": []
    },
    {
      "cell_type": "code",
      "source": [
        "np.sort(a)"
      ],
      "metadata": {
        "id": "73PX7-jiGayK"
      },
      "execution_count": null,
      "outputs": []
    },
    {
      "cell_type": "code",
      "source": [
        "a = np.array([\n",
        "    [4, 3, 5, 7],\n",
        "    [1, 12, 11, 9],\n",
        "    [2, 15, 1, 14]\n",
        "])\n",
        "a"
      ],
      "metadata": {
        "id": "9g_DN6JpFqWn"
      },
      "execution_count": null,
      "outputs": []
    },
    {
      "cell_type": "code",
      "source": [
        "np.sort(a, axis=0)"
      ],
      "metadata": {
        "id": "1lUhz0BuG0Wq"
      },
      "execution_count": null,
      "outputs": []
    },
    {
      "cell_type": "code",
      "source": [
        "np.sort(a, axis=1)"
      ],
      "metadata": {
        "id": "U4c0KkbdG2C4"
      },
      "execution_count": null,
      "outputs": []
    },
    {
      "cell_type": "code",
      "source": [
        "np.sort(a, axis=-1)"
      ],
      "metadata": {
        "id": "RCBFX2-lHLt3"
      },
      "execution_count": null,
      "outputs": []
    },
    {
      "cell_type": "code",
      "source": [
        "np.sort(a) # axis=-1, axis=1 -> 2차원 배열, 행렬"
      ],
      "metadata": {
        "id": "OiCT4ExIGcyS"
      },
      "execution_count": null,
      "outputs": []
    },
    {
      "cell_type": "code",
      "source": [
        "a # np.sort 는 원본에 영향 X, 깊은 복사"
      ],
      "metadata": {
        "id": "41yMPbdSGjkr"
      },
      "execution_count": null,
      "outputs": []
    },
    {
      "cell_type": "code",
      "source": [
        "b = a.copy()\n",
        "b"
      ],
      "metadata": {
        "id": "h2SFHd2XHrP6"
      },
      "execution_count": null,
      "outputs": []
    },
    {
      "cell_type": "code",
      "source": [
        "b.sort()    # arr.sort()를 사용할 경우, 해당 arr의 상태가 변화\n",
        "            # -> 자체변화 메소드(in-place) = 원본이 수정\n",
        "b"
      ],
      "metadata": {
        "id": "SicXvr5mHto6"
      },
      "execution_count": null,
      "outputs": []
    },
    {
      "cell_type": "code",
      "source": [
        "b.sort(axis = 1)\n",
        "b"
      ],
      "metadata": {
        "id": "PgS5JV3VH0SS"
      },
      "execution_count": null,
      "outputs": []
    },
    {
      "cell_type": "markdown",
      "source": [
        "## argsort\n",
        "* 자료 정렬이 아니라 index 순서만 알고싶다"
      ],
      "metadata": {
        "id": "ms_v_ICNpfJu"
      }
    },
    {
      "cell_type": "code",
      "source": [
        "a = np.array([42, 38, 12, 25])\n",
        "j = np.argsort(a) # 오름차순\n",
        "j\n",
        "# 오름차순 : 작은 -> 큰 값으로 (데이터가 전개된 방향 일치하게 커진다, asc)\n",
        "# 내림차순 : 큰 -> 작은 (데이터가 전개되는 방향으로 작아진다 = 가장 큰 값이 맨 앞에 있다, desc)"
      ],
      "metadata": {
        "id": "jy-jZkwKppQl"
      },
      "execution_count": null,
      "outputs": []
    },
    {
      "cell_type": "code",
      "source": [],
      "metadata": {
        "id": "fYXOzlgZpswW"
      },
      "execution_count": null,
      "outputs": []
    }
  ]
}